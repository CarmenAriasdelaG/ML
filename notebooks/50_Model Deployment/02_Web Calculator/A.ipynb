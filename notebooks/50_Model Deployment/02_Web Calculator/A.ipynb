{
 "cells": [
  {
   "cell_type": "code",
   "execution_count": null,
   "id": "05af2f5a",
   "metadata": {
    "execution": {
     "iopub.execute_input": "2024-05-10T12:10:24.427542Z",
     "iopub.status.busy": "2024-05-10T12:10:24.427382Z",
     "iopub.status.idle": "2024-05-10T12:10:24.717380Z",
     "shell.execute_reply": "2024-05-10T12:10:24.716981Z"
    },
    "papermill": {
     "duration": 0.292911,
     "end_time": "2024-05-10T12:10:24.718385",
     "exception": false,
     "start_time": "2024-05-10T12:10:24.425474",
     "status": "completed"
    },
    "tags": []
   },
   "outputs": [],
   "source": []
  },
  {
   "cell_type": "code",
   "execution_count": null,
   "id": "631c2db9",
   "metadata": {
    "execution": {
     "iopub.execute_input": "2024-05-10T12:10:24.720830Z",
     "iopub.status.busy": "2024-05-10T12:10:24.720647Z",
     "iopub.status.idle": "2024-05-10T12:10:24.723949Z",
     "shell.execute_reply": "2024-05-10T12:10:24.723702Z"
    },
    "papermill": {
     "duration": 0.005305,
     "end_time": "2024-05-10T12:10:24.724701",
     "exception": false,
     "start_time": "2024-05-10T12:10:24.719396",
     "status": "completed"
    },
    "tags": []
   },
   "outputs": [
    {
     "data": {
      "text/plain": [
       "array(['Industry', 'Ethnicity', 'Gender', 'Age', 'CivilStatus',\n",
       "       'YearsEmployed', 'Income'], dtype=object)"
      ]
     },
     "execution_count": null,
     "metadata": {},
     "output_type": "execute_result"
    }
   ],
   "source": []
  },
  {
   "cell_type": "code",
   "execution_count": null,
   "id": "36064a3f",
   "metadata": {
    "execution": {
     "iopub.execute_input": "2024-05-10T12:10:24.726326Z",
     "iopub.status.busy": "2024-05-10T12:10:24.726220Z",
     "iopub.status.idle": "2024-05-10T12:10:24.727918Z",
     "shell.execute_reply": "2024-05-10T12:10:24.727719Z"
    },
    "papermill": {
     "duration": 0.003218,
     "end_time": "2024-05-10T12:10:24.728562",
     "exception": false,
     "start_time": "2024-05-10T12:10:24.725344",
     "status": "completed"
    },
    "tags": []
   },
   "outputs": [],
   "source": []
  },
  {
   "cell_type": "code",
   "execution_count": null,
   "id": "08b47251",
   "metadata": {
    "execution": {
     "iopub.execute_input": "2024-05-10T12:10:24.729997Z",
     "iopub.status.busy": "2024-05-10T12:10:24.729907Z",
     "iopub.status.idle": "2024-05-10T12:10:24.732005Z",
     "shell.execute_reply": "2024-05-10T12:10:24.731838Z"
    },
    "papermill": {
     "duration": 0.003534,
     "end_time": "2024-05-10T12:10:24.732624",
     "exception": false,
     "start_time": "2024-05-10T12:10:24.729090",
     "status": "completed"
    },
    "tags": []
   },
   "outputs": [
    {
     "data": {
      "text/plain": [
       "{'Industry': ['CommunicationServices',\n",
       "  'ConsumerDiscretionary',\n",
       "  'ConsumerStaples',\n",
       "  'Education',\n",
       "  'Energy',\n",
       "  'Financials',\n",
       "  'Healthcare',\n",
       "  'Industrials',\n",
       "  'InformationTechnology',\n",
       "  'Materials',\n",
       "  'Real Estate',\n",
       "  'Research',\n",
       "  'Transport',\n",
       "  'Utilities'],\n",
       " 'Ethnicity': ['Asian', 'Black', 'Latino', 'Other', 'White'],\n",
       " 'Gender': ['Female', 'Male'],\n",
       " 'CivilStatus': ['Married', 'Other']}"
      ]
     },
     "execution_count": null,
     "metadata": {},
     "output_type": "execute_result"
    }
   ],
   "source": []
  },
  {
   "cell_type": "code",
   "execution_count": null,
   "id": "2ab62038",
   "metadata": {
    "execution": {
     "iopub.execute_input": "2024-05-10T12:10:24.734000Z",
     "iopub.status.busy": "2024-05-10T12:10:24.733922Z",
     "iopub.status.idle": "2024-05-10T12:10:24.735501Z",
     "shell.execute_reply": "2024-05-10T12:10:24.735332Z"
    },
    "papermill": {
     "duration": 0.003146,
     "end_time": "2024-05-10T12:10:24.736288",
     "exception": false,
     "start_time": "2024-05-10T12:10:24.733142",
     "status": "completed"
    },
    "tags": []
   },
   "outputs": [
    {
     "execution_count": null,
     "name": "stdout",
     "output_type": "stream",
     "text": [
      "Industry ['CommunicationServices', 'ConsumerDiscretionary', 'ConsumerStaples', 'Education', 'Energy', 'Financials', 'Healthcare', 'Industrials', 'InformationTechnology', 'Materials', 'Real Estate', 'Research', 'Transport', 'Utilities']\n",
      "Ethnicity ['Asian', 'Black', 'Latino', 'Other', 'White']\n",
      "Gender ['Female', 'Male']\n",
      "CivilStatus ['Married', 'Other']\n"
     ]
    }
   ],
   "source": []
  },
  {
   "cell_type": "code",
   "execution_count": null,
   "id": "55f891ff",
   "metadata": {
    "execution": {
     "iopub.execute_input": "2024-05-10T12:10:24.738206Z",
     "iopub.status.busy": "2024-05-10T12:10:24.738117Z",
     "iopub.status.idle": "2024-05-10T12:10:24.739854Z",
     "shell.execute_reply": "2024-05-10T12:10:24.739686Z"
    },
    "papermill": {
     "duration": 0.003434,
     "end_time": "2024-05-10T12:10:24.740486",
     "exception": false,
     "start_time": "2024-05-10T12:10:24.737052",
     "status": "completed"
    },
    "tags": []
   },
   "outputs": [],
   "source": []
  }
 ],
 "metadata": {
  "kernelspec": {
   "display_name": "work",
   "language": "python",
   "name": "python3"
  },
  "language_info": {
   "codemirror_mode": {
    "name": "ipython",
    "version": 3
   },
   "file_extension": ".py",
   "mimetype": "text/x-python",
   "name": "python",
   "nbconvert_exporter": "python",
   "pygments_lexer": "ipython3",
   "version": "3.12.2"
  },
  "papermill": {
   "default_parameters": {},
   "duration": 1.458762,
   "end_time": "2024-05-10T12:10:24.957490",
   "environment_variables": {},
   "exception": null,
   "input_path": "/Users/sota/Dropbox/2 Business/1 Datons/2 Areas/Courses/03 ML/materials/notebooks/50_Model Deployment/02_Web Calculator/B.ipynb",
   "output_path": "/Users/sota/Dropbox/2 Business/1 Datons/2 Areas/Courses/03 ML/materials/notebooks/50_Model Deployment/02_Web Calculator/B.ipynb",
   "parameters": {},
   "start_time": "2024-05-10T12:10:23.498728",
   "version": "2.5.0"
  }
 },
 "nbformat": 4,
 "nbformat_minor": 5
}
