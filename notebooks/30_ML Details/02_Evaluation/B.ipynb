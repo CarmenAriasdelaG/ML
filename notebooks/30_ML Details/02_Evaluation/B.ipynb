{
 "cells": [
  {
   "cell_type": "markdown",
   "id": "87eec761-64bc-4ecb-bf2e-cb06d6dfd1d5",
   "metadata": {
    "papermill": {
     "duration": 0.0056,
     "end_time": "2024-05-10T12:01:22.546231",
     "exception": false,
     "start_time": "2024-05-10T12:01:22.540631",
     "status": "completed"
    },
    "tags": []
   },
   "source": [
    "# Evaluation metrics based on model type"
   ]
  },
  {
   "cell_type": "code",
   "execution_count": 1,
   "id": "c2316db2-d8e8-46f5-8d4c-d483a3455156",
   "metadata": {
    "execution": {
     "iopub.execute_input": "2024-05-10T12:01:22.555864Z",
     "iopub.status.busy": "2024-05-10T12:01:22.555665Z",
     "iopub.status.idle": "2024-05-10T12:01:22.839101Z",
     "shell.execute_reply": "2024-05-10T12:01:22.838742Z"
    },
    "papermill": {
     "duration": 0.289318,
     "end_time": "2024-05-10T12:01:22.840072",
     "exception": false,
     "start_time": "2024-05-10T12:01:22.550754",
     "status": "completed"
    },
    "tags": []
   },
   "outputs": [],
   "source": [
    "from sklearn import metrics"
   ]
  },
  {
   "cell_type": "code",
   "execution_count": 2,
   "id": "2806c5c2-1fa3-45e7-8379-9ae06e83097d",
   "metadata": {
    "execution": {
     "iopub.execute_input": "2024-05-10T12:01:22.848537Z",
     "iopub.status.busy": "2024-05-10T12:01:22.848259Z",
     "iopub.status.idle": "2024-05-10T12:01:22.851198Z",
     "shell.execute_reply": "2024-05-10T12:01:22.851006Z"
    },
    "papermill": {
     "duration": 0.009196,
     "end_time": "2024-05-10T12:01:22.851825",
     "exception": false,
     "start_time": "2024-05-10T12:01:22.842629",
     "status": "completed"
    },
    "scrolled": true,
    "tags": []
   },
   "outputs": [
    {
     "data": {
      "text/plain": [
       "['accuracy_score',\n",
       " 'adjusted_mutual_info_score',\n",
       " 'adjusted_rand_score',\n",
       " 'auc',\n",
       " 'average_precision_score',\n",
       " 'balanced_accuracy_score',\n",
       " 'calinski_harabasz_score',\n",
       " 'check_scoring',\n",
       " 'class_likelihood_ratios',\n",
       " 'classification_report',\n",
       " 'cluster',\n",
       " 'cohen_kappa_score',\n",
       " 'completeness_score',\n",
       " 'ConfusionMatrixDisplay',\n",
       " 'confusion_matrix',\n",
       " 'consensus_score',\n",
       " 'coverage_error',\n",
       " 'd2_tweedie_score',\n",
       " 'd2_absolute_error_score',\n",
       " 'd2_pinball_score',\n",
       " 'dcg_score',\n",
       " 'davies_bouldin_score',\n",
       " 'DetCurveDisplay',\n",
       " 'det_curve',\n",
       " 'DistanceMetric',\n",
       " 'euclidean_distances',\n",
       " 'explained_variance_score',\n",
       " 'f1_score',\n",
       " 'fbeta_score',\n",
       " 'fowlkes_mallows_score',\n",
       " 'get_scorer',\n",
       " 'hamming_loss',\n",
       " 'hinge_loss',\n",
       " 'homogeneity_completeness_v_measure',\n",
       " 'homogeneity_score',\n",
       " 'jaccard_score',\n",
       " 'label_ranking_average_precision_score',\n",
       " 'label_ranking_loss',\n",
       " 'log_loss',\n",
       " 'make_scorer',\n",
       " 'nan_euclidean_distances',\n",
       " 'matthews_corrcoef',\n",
       " 'max_error',\n",
       " 'mean_absolute_error',\n",
       " 'mean_squared_error',\n",
       " 'mean_squared_log_error',\n",
       " 'mean_pinball_loss',\n",
       " 'mean_poisson_deviance',\n",
       " 'mean_gamma_deviance',\n",
       " 'mean_tweedie_deviance',\n",
       " 'median_absolute_error',\n",
       " 'mean_absolute_percentage_error',\n",
       " 'multilabel_confusion_matrix',\n",
       " 'mutual_info_score',\n",
       " 'ndcg_score',\n",
       " 'normalized_mutual_info_score',\n",
       " 'pair_confusion_matrix',\n",
       " 'pairwise_distances',\n",
       " 'pairwise_distances_argmin',\n",
       " 'pairwise_distances_argmin_min',\n",
       " 'pairwise_distances_chunked',\n",
       " 'pairwise_kernels',\n",
       " 'PrecisionRecallDisplay',\n",
       " 'precision_recall_curve',\n",
       " 'precision_recall_fscore_support',\n",
       " 'precision_score',\n",
       " 'PredictionErrorDisplay',\n",
       " 'r2_score',\n",
       " 'rand_score',\n",
       " 'recall_score',\n",
       " 'RocCurveDisplay',\n",
       " 'roc_auc_score',\n",
       " 'roc_curve',\n",
       " 'root_mean_squared_log_error',\n",
       " 'root_mean_squared_error',\n",
       " 'get_scorer_names',\n",
       " 'silhouette_samples',\n",
       " 'silhouette_score',\n",
       " 'top_k_accuracy_score',\n",
       " 'v_measure_score',\n",
       " 'zero_one_loss',\n",
       " 'brier_score_loss']"
      ]
     },
     "execution_count": 2,
     "metadata": {},
     "output_type": "execute_result"
    }
   ],
   "source": [
    "metrics.__all__"
   ]
  },
  {
   "cell_type": "markdown",
   "id": "e01a739a-2cbb-44be-b4f8-45193c53af03",
   "metadata": {
    "papermill": {
     "duration": 0.002312,
     "end_time": "2024-05-10T12:01:22.856521",
     "exception": false,
     "start_time": "2024-05-10T12:01:22.854209",
     "status": "completed"
    },
    "tags": []
   },
   "source": [
    "## Classifiers"
   ]
  },
  {
   "cell_type": "markdown",
   "id": "8c6c58b8-11f8-4549-922d-7c0fbe4b7a9d",
   "metadata": {
    "papermill": {
     "duration": 0.002096,
     "end_time": "2024-05-10T12:01:22.860885",
     "exception": false,
     "start_time": "2024-05-10T12:01:22.858789",
     "status": "completed"
    },
    "tags": []
   },
   "source": [
    "### Load data"
   ]
  },
  {
   "cell_type": "code",
   "execution_count": 3,
   "id": "300a735b-4ad0-44f0-b7c8-8370323ed453",
   "metadata": {
    "execution": {
     "iopub.execute_input": "2024-05-10T12:01:22.865535Z",
     "iopub.status.busy": "2024-05-10T12:01:22.865419Z",
     "iopub.status.idle": "2024-05-10T12:01:22.871096Z",
     "shell.execute_reply": "2024-05-10T12:01:22.870886Z"
    },
    "papermill": {
     "duration": 0.009002,
     "end_time": "2024-05-10T12:01:22.871925",
     "exception": false,
     "start_time": "2024-05-10T12:01:22.862923",
     "status": "completed"
    },
    "tags": []
   },
   "outputs": [
    {
     "data": {
      "text/html": [
       "<div>\n",
       "<style scoped>\n",
       "    .dataframe tbody tr th:only-of-type {\n",
       "        vertical-align: middle;\n",
       "    }\n",
       "\n",
       "    .dataframe tbody tr th {\n",
       "        vertical-align: top;\n",
       "    }\n",
       "\n",
       "    .dataframe thead th {\n",
       "        text-align: right;\n",
       "    }\n",
       "</style>\n",
       "<table border=\"1\" class=\"dataframe\">\n",
       "  <thead>\n",
       "    <tr style=\"text-align: right;\">\n",
       "      <th></th>\n",
       "      <th>Gender</th>\n",
       "      <th>Age</th>\n",
       "      <th>Married</th>\n",
       "      <th>YearsEmployed</th>\n",
       "      <th>Income</th>\n",
       "      <th>Approved</th>\n",
       "    </tr>\n",
       "  </thead>\n",
       "  <tbody>\n",
       "    <tr>\n",
       "      <th>0</th>\n",
       "      <td>1</td>\n",
       "      <td>30</td>\n",
       "      <td>1</td>\n",
       "      <td>1.25</td>\n",
       "      <td>0</td>\n",
       "      <td>1</td>\n",
       "    </tr>\n",
       "    <tr>\n",
       "      <th>1</th>\n",
       "      <td>0</td>\n",
       "      <td>58</td>\n",
       "      <td>1</td>\n",
       "      <td>3.04</td>\n",
       "      <td>560</td>\n",
       "      <td>1</td>\n",
       "    </tr>\n",
       "    <tr>\n",
       "      <th>...</th>\n",
       "      <td>...</td>\n",
       "      <td>...</td>\n",
       "      <td>...</td>\n",
       "      <td>...</td>\n",
       "      <td>...</td>\n",
       "      <td>...</td>\n",
       "    </tr>\n",
       "    <tr>\n",
       "      <th>688</th>\n",
       "      <td>1</td>\n",
       "      <td>17</td>\n",
       "      <td>1</td>\n",
       "      <td>0.04</td>\n",
       "      <td>750</td>\n",
       "      <td>0</td>\n",
       "    </tr>\n",
       "    <tr>\n",
       "      <th>689</th>\n",
       "      <td>1</td>\n",
       "      <td>35</td>\n",
       "      <td>1</td>\n",
       "      <td>8.29</td>\n",
       "      <td>0</td>\n",
       "      <td>0</td>\n",
       "    </tr>\n",
       "  </tbody>\n",
       "</table>\n",
       "<p>690 rows × 6 columns</p>\n",
       "</div>"
      ],
      "text/plain": [
       "     Gender  Age  Married  YearsEmployed  Income  Approved\n",
       "0         1   30        1           1.25       0         1\n",
       "1         0   58        1           3.04     560         1\n",
       "..      ...  ...      ...            ...     ...       ...\n",
       "688       1   17        1           0.04     750         0\n",
       "689       1   35        1           8.29       0         0\n",
       "\n",
       "[690 rows x 6 columns]"
      ]
     },
     "execution_count": 3,
     "metadata": {},
     "output_type": "execute_result"
    }
   ],
   "source": [
    "import pandas as pd\n",
    "\n",
    "path = '../../../data/default_credit_card/output/simplified_features.csv'\n",
    "df = pd.read_csv(path)\n",
    "df"
   ]
  },
  {
   "cell_type": "markdown",
   "id": "8cd155e0-255d-4df0-8cc6-45cbeb2d9769",
   "metadata": {
    "papermill": {
     "duration": 0.002237,
     "end_time": "2024-05-10T12:01:22.876697",
     "exception": false,
     "start_time": "2024-05-10T12:01:22.874460",
     "status": "completed"
    },
    "tags": []
   },
   "source": [
    "### Feature selection"
   ]
  },
  {
   "cell_type": "code",
   "execution_count": 4,
   "id": "612a5622-f0ed-44f6-9718-9c4b9d2102c8",
   "metadata": {
    "execution": {
     "iopub.execute_input": "2024-05-10T12:01:22.881505Z",
     "iopub.status.busy": "2024-05-10T12:01:22.881405Z",
     "iopub.status.idle": "2024-05-10T12:01:22.883649Z",
     "shell.execute_reply": "2024-05-10T12:01:22.883265Z"
    },
    "papermill": {
     "duration": 0.005507,
     "end_time": "2024-05-10T12:01:22.884381",
     "exception": false,
     "start_time": "2024-05-10T12:01:22.878874",
     "status": "completed"
    },
    "tags": []
   },
   "outputs": [],
   "source": [
    "y = df['Approved']\n",
    "X = df.drop(columns='Approved')"
   ]
  },
  {
   "cell_type": "markdown",
   "id": "136d2335-714c-48b5-b3d5-a9994e3ba501",
   "metadata": {
    "papermill": {
     "duration": 0.002242,
     "end_time": "2024-05-10T12:01:22.889057",
     "exception": false,
     "start_time": "2024-05-10T12:01:22.886815",
     "status": "completed"
    },
    "tags": []
   },
   "source": [
    "### Train test split"
   ]
  },
  {
   "cell_type": "code",
   "execution_count": 5,
   "id": "3cff644c-fb8c-4a11-b4a2-6fb9e525e956",
   "metadata": {
    "execution": {
     "iopub.execute_input": "2024-05-10T12:01:22.894070Z",
     "iopub.status.busy": "2024-05-10T12:01:22.893962Z",
     "iopub.status.idle": "2024-05-10T12:01:22.899989Z",
     "shell.execute_reply": "2024-05-10T12:01:22.899777Z"
    },
    "papermill": {
     "duration": 0.009354,
     "end_time": "2024-05-10T12:01:22.900627",
     "exception": false,
     "start_time": "2024-05-10T12:01:22.891273",
     "status": "completed"
    },
    "tags": []
   },
   "outputs": [],
   "source": [
    "from sklearn.model_selection import train_test_split\n",
    "\n",
    "X_train, X_test, y_train, y_test = train_test_split(\n",
    "    X, y, test_size=0.3, random_state=42)"
   ]
  },
  {
   "cell_type": "markdown",
   "id": "550aae1d-5525-4a5a-9158-f7f50ffc3021",
   "metadata": {
    "papermill": {
     "duration": 0.002188,
     "end_time": "2024-05-10T12:01:22.905077",
     "exception": false,
     "start_time": "2024-05-10T12:01:22.902889",
     "status": "completed"
    },
    "tags": []
   },
   "source": [
    "### Modelling"
   ]
  },
  {
   "cell_type": "code",
   "execution_count": 6,
   "id": "81342534-6128-4538-81c4-b4aa7436862a",
   "metadata": {
    "execution": {
     "iopub.execute_input": "2024-05-10T12:01:22.909822Z",
     "iopub.status.busy": "2024-05-10T12:01:22.909697Z",
     "iopub.status.idle": "2024-05-10T12:01:22.987116Z",
     "shell.execute_reply": "2024-05-10T12:01:22.986860Z"
    },
    "papermill": {
     "duration": 0.080667,
     "end_time": "2024-05-10T12:01:22.987828",
     "exception": false,
     "start_time": "2024-05-10T12:01:22.907161",
     "status": "completed"
    },
    "tags": []
   },
   "outputs": [
    {
     "data": {
      "text/html": [
       "<style>#sk-container-id-1 {\n",
       "  /* Definition of color scheme common for light and dark mode */\n",
       "  --sklearn-color-text: black;\n",
       "  --sklearn-color-line: gray;\n",
       "  /* Definition of color scheme for unfitted estimators */\n",
       "  --sklearn-color-unfitted-level-0: #fff5e6;\n",
       "  --sklearn-color-unfitted-level-1: #f6e4d2;\n",
       "  --sklearn-color-unfitted-level-2: #ffe0b3;\n",
       "  --sklearn-color-unfitted-level-3: chocolate;\n",
       "  /* Definition of color scheme for fitted estimators */\n",
       "  --sklearn-color-fitted-level-0: #f0f8ff;\n",
       "  --sklearn-color-fitted-level-1: #d4ebff;\n",
       "  --sklearn-color-fitted-level-2: #b3dbfd;\n",
       "  --sklearn-color-fitted-level-3: cornflowerblue;\n",
       "\n",
       "  /* Specific color for light theme */\n",
       "  --sklearn-color-text-on-default-background: var(--sg-text-color, var(--theme-code-foreground, var(--jp-content-font-color1, black)));\n",
       "  --sklearn-color-background: var(--sg-background-color, var(--theme-background, var(--jp-layout-color0, white)));\n",
       "  --sklearn-color-border-box: var(--sg-text-color, var(--theme-code-foreground, var(--jp-content-font-color1, black)));\n",
       "  --sklearn-color-icon: #696969;\n",
       "\n",
       "  @media (prefers-color-scheme: dark) {\n",
       "    /* Redefinition of color scheme for dark theme */\n",
       "    --sklearn-color-text-on-default-background: var(--sg-text-color, var(--theme-code-foreground, var(--jp-content-font-color1, white)));\n",
       "    --sklearn-color-background: var(--sg-background-color, var(--theme-background, var(--jp-layout-color0, #111)));\n",
       "    --sklearn-color-border-box: var(--sg-text-color, var(--theme-code-foreground, var(--jp-content-font-color1, white)));\n",
       "    --sklearn-color-icon: #878787;\n",
       "  }\n",
       "}\n",
       "\n",
       "#sk-container-id-1 {\n",
       "  color: var(--sklearn-color-text);\n",
       "}\n",
       "\n",
       "#sk-container-id-1 pre {\n",
       "  padding: 0;\n",
       "}\n",
       "\n",
       "#sk-container-id-1 input.sk-hidden--visually {\n",
       "  border: 0;\n",
       "  clip: rect(1px 1px 1px 1px);\n",
       "  clip: rect(1px, 1px, 1px, 1px);\n",
       "  height: 1px;\n",
       "  margin: -1px;\n",
       "  overflow: hidden;\n",
       "  padding: 0;\n",
       "  position: absolute;\n",
       "  width: 1px;\n",
       "}\n",
       "\n",
       "#sk-container-id-1 div.sk-dashed-wrapped {\n",
       "  border: 1px dashed var(--sklearn-color-line);\n",
       "  margin: 0 0.4em 0.5em 0.4em;\n",
       "  box-sizing: border-box;\n",
       "  padding-bottom: 0.4em;\n",
       "  background-color: var(--sklearn-color-background);\n",
       "}\n",
       "\n",
       "#sk-container-id-1 div.sk-container {\n",
       "  /* jupyter's `normalize.less` sets `[hidden] { display: none; }`\n",
       "     but bootstrap.min.css set `[hidden] { display: none !important; }`\n",
       "     so we also need the `!important` here to be able to override the\n",
       "     default hidden behavior on the sphinx rendered scikit-learn.org.\n",
       "     See: https://github.com/scikit-learn/scikit-learn/issues/21755 */\n",
       "  display: inline-block !important;\n",
       "  position: relative;\n",
       "}\n",
       "\n",
       "#sk-container-id-1 div.sk-text-repr-fallback {\n",
       "  display: none;\n",
       "}\n",
       "\n",
       "div.sk-parallel-item,\n",
       "div.sk-serial,\n",
       "div.sk-item {\n",
       "  /* draw centered vertical line to link estimators */\n",
       "  background-image: linear-gradient(var(--sklearn-color-text-on-default-background), var(--sklearn-color-text-on-default-background));\n",
       "  background-size: 2px 100%;\n",
       "  background-repeat: no-repeat;\n",
       "  background-position: center center;\n",
       "}\n",
       "\n",
       "/* Parallel-specific style estimator block */\n",
       "\n",
       "#sk-container-id-1 div.sk-parallel-item::after {\n",
       "  content: \"\";\n",
       "  width: 100%;\n",
       "  border-bottom: 2px solid var(--sklearn-color-text-on-default-background);\n",
       "  flex-grow: 1;\n",
       "}\n",
       "\n",
       "#sk-container-id-1 div.sk-parallel {\n",
       "  display: flex;\n",
       "  align-items: stretch;\n",
       "  justify-content: center;\n",
       "  background-color: var(--sklearn-color-background);\n",
       "  position: relative;\n",
       "}\n",
       "\n",
       "#sk-container-id-1 div.sk-parallel-item {\n",
       "  display: flex;\n",
       "  flex-direction: column;\n",
       "}\n",
       "\n",
       "#sk-container-id-1 div.sk-parallel-item:first-child::after {\n",
       "  align-self: flex-end;\n",
       "  width: 50%;\n",
       "}\n",
       "\n",
       "#sk-container-id-1 div.sk-parallel-item:last-child::after {\n",
       "  align-self: flex-start;\n",
       "  width: 50%;\n",
       "}\n",
       "\n",
       "#sk-container-id-1 div.sk-parallel-item:only-child::after {\n",
       "  width: 0;\n",
       "}\n",
       "\n",
       "/* Serial-specific style estimator block */\n",
       "\n",
       "#sk-container-id-1 div.sk-serial {\n",
       "  display: flex;\n",
       "  flex-direction: column;\n",
       "  align-items: center;\n",
       "  background-color: var(--sklearn-color-background);\n",
       "  padding-right: 1em;\n",
       "  padding-left: 1em;\n",
       "}\n",
       "\n",
       "\n",
       "/* Toggleable style: style used for estimator/Pipeline/ColumnTransformer box that is\n",
       "clickable and can be expanded/collapsed.\n",
       "- Pipeline and ColumnTransformer use this feature and define the default style\n",
       "- Estimators will overwrite some part of the style using the `sk-estimator` class\n",
       "*/\n",
       "\n",
       "/* Pipeline and ColumnTransformer style (default) */\n",
       "\n",
       "#sk-container-id-1 div.sk-toggleable {\n",
       "  /* Default theme specific background. It is overwritten whether we have a\n",
       "  specific estimator or a Pipeline/ColumnTransformer */\n",
       "  background-color: var(--sklearn-color-background);\n",
       "}\n",
       "\n",
       "/* Toggleable label */\n",
       "#sk-container-id-1 label.sk-toggleable__label {\n",
       "  cursor: pointer;\n",
       "  display: block;\n",
       "  width: 100%;\n",
       "  margin-bottom: 0;\n",
       "  padding: 0.5em;\n",
       "  box-sizing: border-box;\n",
       "  text-align: center;\n",
       "}\n",
       "\n",
       "#sk-container-id-1 label.sk-toggleable__label-arrow:before {\n",
       "  /* Arrow on the left of the label */\n",
       "  content: \"▸\";\n",
       "  float: left;\n",
       "  margin-right: 0.25em;\n",
       "  color: var(--sklearn-color-icon);\n",
       "}\n",
       "\n",
       "#sk-container-id-1 label.sk-toggleable__label-arrow:hover:before {\n",
       "  color: var(--sklearn-color-text);\n",
       "}\n",
       "\n",
       "/* Toggleable content - dropdown */\n",
       "\n",
       "#sk-container-id-1 div.sk-toggleable__content {\n",
       "  max-height: 0;\n",
       "  max-width: 0;\n",
       "  overflow: hidden;\n",
       "  text-align: left;\n",
       "  /* unfitted */\n",
       "  background-color: var(--sklearn-color-unfitted-level-0);\n",
       "}\n",
       "\n",
       "#sk-container-id-1 div.sk-toggleable__content.fitted {\n",
       "  /* fitted */\n",
       "  background-color: var(--sklearn-color-fitted-level-0);\n",
       "}\n",
       "\n",
       "#sk-container-id-1 div.sk-toggleable__content pre {\n",
       "  margin: 0.2em;\n",
       "  border-radius: 0.25em;\n",
       "  color: var(--sklearn-color-text);\n",
       "  /* unfitted */\n",
       "  background-color: var(--sklearn-color-unfitted-level-0);\n",
       "}\n",
       "\n",
       "#sk-container-id-1 div.sk-toggleable__content.fitted pre {\n",
       "  /* unfitted */\n",
       "  background-color: var(--sklearn-color-fitted-level-0);\n",
       "}\n",
       "\n",
       "#sk-container-id-1 input.sk-toggleable__control:checked~div.sk-toggleable__content {\n",
       "  /* Expand drop-down */\n",
       "  max-height: 200px;\n",
       "  max-width: 100%;\n",
       "  overflow: auto;\n",
       "}\n",
       "\n",
       "#sk-container-id-1 input.sk-toggleable__control:checked~label.sk-toggleable__label-arrow:before {\n",
       "  content: \"▾\";\n",
       "}\n",
       "\n",
       "/* Pipeline/ColumnTransformer-specific style */\n",
       "\n",
       "#sk-container-id-1 div.sk-label input.sk-toggleable__control:checked~label.sk-toggleable__label {\n",
       "  color: var(--sklearn-color-text);\n",
       "  background-color: var(--sklearn-color-unfitted-level-2);\n",
       "}\n",
       "\n",
       "#sk-container-id-1 div.sk-label.fitted input.sk-toggleable__control:checked~label.sk-toggleable__label {\n",
       "  background-color: var(--sklearn-color-fitted-level-2);\n",
       "}\n",
       "\n",
       "/* Estimator-specific style */\n",
       "\n",
       "/* Colorize estimator box */\n",
       "#sk-container-id-1 div.sk-estimator input.sk-toggleable__control:checked~label.sk-toggleable__label {\n",
       "  /* unfitted */\n",
       "  background-color: var(--sklearn-color-unfitted-level-2);\n",
       "}\n",
       "\n",
       "#sk-container-id-1 div.sk-estimator.fitted input.sk-toggleable__control:checked~label.sk-toggleable__label {\n",
       "  /* fitted */\n",
       "  background-color: var(--sklearn-color-fitted-level-2);\n",
       "}\n",
       "\n",
       "#sk-container-id-1 div.sk-label label.sk-toggleable__label,\n",
       "#sk-container-id-1 div.sk-label label {\n",
       "  /* The background is the default theme color */\n",
       "  color: var(--sklearn-color-text-on-default-background);\n",
       "}\n",
       "\n",
       "/* On hover, darken the color of the background */\n",
       "#sk-container-id-1 div.sk-label:hover label.sk-toggleable__label {\n",
       "  color: var(--sklearn-color-text);\n",
       "  background-color: var(--sklearn-color-unfitted-level-2);\n",
       "}\n",
       "\n",
       "/* Label box, darken color on hover, fitted */\n",
       "#sk-container-id-1 div.sk-label.fitted:hover label.sk-toggleable__label.fitted {\n",
       "  color: var(--sklearn-color-text);\n",
       "  background-color: var(--sklearn-color-fitted-level-2);\n",
       "}\n",
       "\n",
       "/* Estimator label */\n",
       "\n",
       "#sk-container-id-1 div.sk-label label {\n",
       "  font-family: monospace;\n",
       "  font-weight: bold;\n",
       "  display: inline-block;\n",
       "  line-height: 1.2em;\n",
       "}\n",
       "\n",
       "#sk-container-id-1 div.sk-label-container {\n",
       "  text-align: center;\n",
       "}\n",
       "\n",
       "/* Estimator-specific */\n",
       "#sk-container-id-1 div.sk-estimator {\n",
       "  font-family: monospace;\n",
       "  border: 1px dotted var(--sklearn-color-border-box);\n",
       "  border-radius: 0.25em;\n",
       "  box-sizing: border-box;\n",
       "  margin-bottom: 0.5em;\n",
       "  /* unfitted */\n",
       "  background-color: var(--sklearn-color-unfitted-level-0);\n",
       "}\n",
       "\n",
       "#sk-container-id-1 div.sk-estimator.fitted {\n",
       "  /* fitted */\n",
       "  background-color: var(--sklearn-color-fitted-level-0);\n",
       "}\n",
       "\n",
       "/* on hover */\n",
       "#sk-container-id-1 div.sk-estimator:hover {\n",
       "  /* unfitted */\n",
       "  background-color: var(--sklearn-color-unfitted-level-2);\n",
       "}\n",
       "\n",
       "#sk-container-id-1 div.sk-estimator.fitted:hover {\n",
       "  /* fitted */\n",
       "  background-color: var(--sklearn-color-fitted-level-2);\n",
       "}\n",
       "\n",
       "/* Specification for estimator info (e.g. \"i\" and \"?\") */\n",
       "\n",
       "/* Common style for \"i\" and \"?\" */\n",
       "\n",
       ".sk-estimator-doc-link,\n",
       "a:link.sk-estimator-doc-link,\n",
       "a:visited.sk-estimator-doc-link {\n",
       "  float: right;\n",
       "  font-size: smaller;\n",
       "  line-height: 1em;\n",
       "  font-family: monospace;\n",
       "  background-color: var(--sklearn-color-background);\n",
       "  border-radius: 1em;\n",
       "  height: 1em;\n",
       "  width: 1em;\n",
       "  text-decoration: none !important;\n",
       "  margin-left: 1ex;\n",
       "  /* unfitted */\n",
       "  border: var(--sklearn-color-unfitted-level-1) 1pt solid;\n",
       "  color: var(--sklearn-color-unfitted-level-1);\n",
       "}\n",
       "\n",
       ".sk-estimator-doc-link.fitted,\n",
       "a:link.sk-estimator-doc-link.fitted,\n",
       "a:visited.sk-estimator-doc-link.fitted {\n",
       "  /* fitted */\n",
       "  border: var(--sklearn-color-fitted-level-1) 1pt solid;\n",
       "  color: var(--sklearn-color-fitted-level-1);\n",
       "}\n",
       "\n",
       "/* On hover */\n",
       "div.sk-estimator:hover .sk-estimator-doc-link:hover,\n",
       ".sk-estimator-doc-link:hover,\n",
       "div.sk-label-container:hover .sk-estimator-doc-link:hover,\n",
       ".sk-estimator-doc-link:hover {\n",
       "  /* unfitted */\n",
       "  background-color: var(--sklearn-color-unfitted-level-3);\n",
       "  color: var(--sklearn-color-background);\n",
       "  text-decoration: none;\n",
       "}\n",
       "\n",
       "div.sk-estimator.fitted:hover .sk-estimator-doc-link.fitted:hover,\n",
       ".sk-estimator-doc-link.fitted:hover,\n",
       "div.sk-label-container:hover .sk-estimator-doc-link.fitted:hover,\n",
       ".sk-estimator-doc-link.fitted:hover {\n",
       "  /* fitted */\n",
       "  background-color: var(--sklearn-color-fitted-level-3);\n",
       "  color: var(--sklearn-color-background);\n",
       "  text-decoration: none;\n",
       "}\n",
       "\n",
       "/* Span, style for the box shown on hovering the info icon */\n",
       ".sk-estimator-doc-link span {\n",
       "  display: none;\n",
       "  z-index: 9999;\n",
       "  position: relative;\n",
       "  font-weight: normal;\n",
       "  right: .2ex;\n",
       "  padding: .5ex;\n",
       "  margin: .5ex;\n",
       "  width: min-content;\n",
       "  min-width: 20ex;\n",
       "  max-width: 50ex;\n",
       "  color: var(--sklearn-color-text);\n",
       "  box-shadow: 2pt 2pt 4pt #999;\n",
       "  /* unfitted */\n",
       "  background: var(--sklearn-color-unfitted-level-0);\n",
       "  border: .5pt solid var(--sklearn-color-unfitted-level-3);\n",
       "}\n",
       "\n",
       ".sk-estimator-doc-link.fitted span {\n",
       "  /* fitted */\n",
       "  background: var(--sklearn-color-fitted-level-0);\n",
       "  border: var(--sklearn-color-fitted-level-3);\n",
       "}\n",
       "\n",
       ".sk-estimator-doc-link:hover span {\n",
       "  display: block;\n",
       "}\n",
       "\n",
       "/* \"?\"-specific style due to the `<a>` HTML tag */\n",
       "\n",
       "#sk-container-id-1 a.estimator_doc_link {\n",
       "  float: right;\n",
       "  font-size: 1rem;\n",
       "  line-height: 1em;\n",
       "  font-family: monospace;\n",
       "  background-color: var(--sklearn-color-background);\n",
       "  border-radius: 1rem;\n",
       "  height: 1rem;\n",
       "  width: 1rem;\n",
       "  text-decoration: none;\n",
       "  /* unfitted */\n",
       "  color: var(--sklearn-color-unfitted-level-1);\n",
       "  border: var(--sklearn-color-unfitted-level-1) 1pt solid;\n",
       "}\n",
       "\n",
       "#sk-container-id-1 a.estimator_doc_link.fitted {\n",
       "  /* fitted */\n",
       "  border: var(--sklearn-color-fitted-level-1) 1pt solid;\n",
       "  color: var(--sklearn-color-fitted-level-1);\n",
       "}\n",
       "\n",
       "/* On hover */\n",
       "#sk-container-id-1 a.estimator_doc_link:hover {\n",
       "  /* unfitted */\n",
       "  background-color: var(--sklearn-color-unfitted-level-3);\n",
       "  color: var(--sklearn-color-background);\n",
       "  text-decoration: none;\n",
       "}\n",
       "\n",
       "#sk-container-id-1 a.estimator_doc_link.fitted:hover {\n",
       "  /* fitted */\n",
       "  background-color: var(--sklearn-color-fitted-level-3);\n",
       "}\n",
       "</style><div id=\"sk-container-id-1\" class=\"sk-top-container\"><div class=\"sk-text-repr-fallback\"><pre>DecisionTreeClassifier(max_depth=3, min_samples_leaf=100)</pre><b>In a Jupyter environment, please rerun this cell to show the HTML representation or trust the notebook. <br />On GitHub, the HTML representation is unable to render, please try loading this page with nbviewer.org.</b></div><div class=\"sk-container\" hidden><div class=\"sk-item\"><div class=\"sk-estimator fitted sk-toggleable\"><input class=\"sk-toggleable__control sk-hidden--visually\" id=\"sk-estimator-id-1\" type=\"checkbox\" checked><label for=\"sk-estimator-id-1\" class=\"sk-toggleable__label fitted sk-toggleable__label-arrow fitted\">&nbsp;&nbsp;DecisionTreeClassifier<a class=\"sk-estimator-doc-link fitted\" rel=\"noreferrer\" target=\"_blank\" href=\"https://scikit-learn.org/1.4/modules/generated/sklearn.tree.DecisionTreeClassifier.html\">?<span>Documentation for DecisionTreeClassifier</span></a><span class=\"sk-estimator-doc-link fitted\">i<span>Fitted</span></span></label><div class=\"sk-toggleable__content fitted\"><pre>DecisionTreeClassifier(max_depth=3, min_samples_leaf=100)</pre></div> </div></div></div></div>"
      ],
      "text/plain": [
       "DecisionTreeClassifier(max_depth=3, min_samples_leaf=100)"
      ]
     },
     "execution_count": 6,
     "metadata": {},
     "output_type": "execute_result"
    }
   ],
   "source": [
    "from sklearn.tree import DecisionTreeClassifier\n",
    "\n",
    "model = DecisionTreeClassifier(max_depth=3, min_samples_leaf=100)\n",
    "model.fit(X_train, y_train)"
   ]
  },
  {
   "cell_type": "markdown",
   "id": "bf2722cf-d95f-423e-9bfe-bb126fe0ac6f",
   "metadata": {
    "papermill": {
     "duration": 0.002582,
     "end_time": "2024-05-10T12:01:22.993247",
     "exception": false,
     "start_time": "2024-05-10T12:01:22.990665",
     "status": "completed"
    },
    "tags": []
   },
   "source": [
    "### Predictions"
   ]
  },
  {
   "cell_type": "code",
   "execution_count": 7,
   "id": "51613c4b-8ff8-42ca-912f-2e60bcb79e04",
   "metadata": {
    "execution": {
     "iopub.execute_input": "2024-05-10T12:01:22.999305Z",
     "iopub.status.busy": "2024-05-10T12:01:22.999144Z",
     "iopub.status.idle": "2024-05-10T12:01:23.001864Z",
     "shell.execute_reply": "2024-05-10T12:01:23.001646Z"
    },
    "papermill": {
     "duration": 0.006363,
     "end_time": "2024-05-10T12:01:23.002641",
     "exception": false,
     "start_time": "2024-05-10T12:01:22.996278",
     "status": "completed"
    },
    "tags": []
   },
   "outputs": [
    {
     "data": {
      "text/plain": [
       "array([[0.72277228, 0.27722772],\n",
       "       [0.72277228, 0.27722772],\n",
       "       [0.8203125 , 0.1796875 ],\n",
       "       [0.14814815, 0.85185185],\n",
       "       [0.8203125 , 0.1796875 ]])"
      ]
     },
     "execution_count": 7,
     "metadata": {},
     "output_type": "execute_result"
    }
   ],
   "source": [
    "y_pred = model.predict_proba(X_test)\n",
    "y_pred[:5]"
   ]
  },
  {
   "cell_type": "code",
   "execution_count": 8,
   "id": "5545641a-fdba-40d9-bfeb-28c659857c4a",
   "metadata": {
    "execution": {
     "iopub.execute_input": "2024-05-10T12:01:23.007932Z",
     "iopub.status.busy": "2024-05-10T12:01:23.007848Z",
     "iopub.status.idle": "2024-05-10T12:01:23.009958Z",
     "shell.execute_reply": "2024-05-10T12:01:23.009781Z"
    },
    "papermill": {
     "duration": 0.005446,
     "end_time": "2024-05-10T12:01:23.010582",
     "exception": false,
     "start_time": "2024-05-10T12:01:23.005136",
     "status": "completed"
    },
    "tags": []
   },
   "outputs": [
    {
     "data": {
      "text/plain": [
       "array([0.27722772, 0.27722772, 0.1796875 , 0.85185185, 0.1796875 ,\n",
       "       0.45890411, 0.1796875 , 0.45890411, 0.1796875 , 0.45890411,\n",
       "       0.45890411, 0.85185185, 0.45890411, 0.45890411, 0.1796875 ,\n",
       "       0.45890411, 0.85185185, 0.27722772, 0.27722772, 0.1796875 ,\n",
       "       0.45890411, 0.1796875 , 0.1796875 , 0.27722772, 0.1796875 ,\n",
       "       0.1796875 , 0.85185185, 0.45890411, 0.1796875 , 0.27722772,\n",
       "       0.85185185, 0.85185185, 0.27722772, 0.1796875 , 0.1796875 ,\n",
       "       0.85185185, 0.85185185, 0.45890411, 0.85185185, 0.85185185,\n",
       "       0.1796875 , 0.45890411, 0.1796875 , 0.27722772, 0.85185185,\n",
       "       0.85185185, 0.27722772, 0.45890411, 0.1796875 , 0.1796875 ,\n",
       "       0.1796875 , 0.45890411, 0.1796875 , 0.45890411, 0.45890411,\n",
       "       0.1796875 , 0.85185185, 0.27722772, 0.45890411, 0.45890411,\n",
       "       0.45890411, 0.45890411, 0.85185185, 0.1796875 , 0.1796875 ,\n",
       "       0.27722772, 0.45890411, 0.85185185, 0.45890411, 0.45890411,\n",
       "       0.45890411, 0.85185185, 0.45890411, 0.45890411, 0.1796875 ,\n",
       "       0.45890411, 0.45890411, 0.27722772, 0.27722772, 0.1796875 ,\n",
       "       0.27722772, 0.27722772, 0.1796875 , 0.45890411, 0.85185185,\n",
       "       0.45890411, 0.45890411, 0.85185185, 0.45890411, 0.85185185,\n",
       "       0.45890411, 0.1796875 , 0.45890411, 0.85185185, 0.45890411,\n",
       "       0.1796875 , 0.85185185, 0.1796875 , 0.1796875 , 0.1796875 ,\n",
       "       0.1796875 , 0.45890411, 0.85185185, 0.1796875 , 0.85185185,\n",
       "       0.45890411, 0.1796875 , 0.85185185, 0.1796875 , 0.85185185,\n",
       "       0.1796875 , 0.85185185, 0.85185185, 0.45890411, 0.1796875 ,\n",
       "       0.45890411, 0.85185185, 0.27722772, 0.27722772, 0.85185185,\n",
       "       0.27722772, 0.27722772, 0.85185185, 0.85185185, 0.45890411,\n",
       "       0.45890411, 0.1796875 , 0.45890411, 0.45890411, 0.85185185,\n",
       "       0.45890411, 0.45890411, 0.1796875 , 0.85185185, 0.85185185,\n",
       "       0.1796875 , 0.45890411, 0.1796875 , 0.1796875 , 0.45890411,\n",
       "       0.1796875 , 0.45890411, 0.45890411, 0.45890411, 0.1796875 ,\n",
       "       0.27722772, 0.1796875 , 0.45890411, 0.1796875 , 0.45890411,\n",
       "       0.27722772, 0.45890411, 0.45890411, 0.85185185, 0.27722772,\n",
       "       0.45890411, 0.85185185, 0.1796875 , 0.1796875 , 0.27722772,\n",
       "       0.85185185, 0.27722772, 0.45890411, 0.1796875 , 0.45890411,\n",
       "       0.45890411, 0.1796875 , 0.85185185, 0.1796875 , 0.45890411,\n",
       "       0.45890411, 0.45890411, 0.45890411, 0.1796875 , 0.1796875 ,\n",
       "       0.45890411, 0.1796875 , 0.1796875 , 0.45890411, 0.1796875 ,\n",
       "       0.45890411, 0.45890411, 0.85185185, 0.45890411, 0.85185185,\n",
       "       0.45890411, 0.45890411, 0.27722772, 0.27722772, 0.85185185,\n",
       "       0.1796875 , 0.45890411, 0.1796875 , 0.27722772, 0.27722772,\n",
       "       0.1796875 , 0.45890411, 0.45890411, 0.27722772, 0.45890411,\n",
       "       0.27722772, 0.85185185, 0.1796875 , 0.85185185, 0.85185185,\n",
       "       0.27722772, 0.85185185])"
      ]
     },
     "execution_count": 8,
     "metadata": {},
     "output_type": "execute_result"
    }
   ],
   "source": [
    "y_pred_proba = y_pred[:,1]\n",
    "y_pred_proba"
   ]
  },
  {
   "cell_type": "code",
   "execution_count": 9,
   "id": "fdcc7058-654a-49c8-937a-6ef8b77009de",
   "metadata": {
    "execution": {
     "iopub.execute_input": "2024-05-10T12:01:23.015778Z",
     "iopub.status.busy": "2024-05-10T12:01:23.015694Z",
     "iopub.status.idle": "2024-05-10T12:01:23.017545Z",
     "shell.execute_reply": "2024-05-10T12:01:23.017364Z"
    },
    "papermill": {
     "duration": 0.005229,
     "end_time": "2024-05-10T12:01:23.018180",
     "exception": false,
     "start_time": "2024-05-10T12:01:23.012951",
     "status": "completed"
    },
    "tags": []
   },
   "outputs": [
    {
     "data": {
      "text/plain": [
       "array([0, 0, 0, 1, 0, 0, 0, 0, 0, 0, 0, 1, 0, 0, 0, 0, 1, 0, 0, 0, 0, 0,\n",
       "       0, 0, 0, 0, 1, 0, 0, 0, 1, 1, 0, 0, 0, 1, 1, 0, 1, 1, 0, 0, 0, 0,\n",
       "       1, 1, 0, 0, 0, 0, 0, 0, 0, 0, 0, 0, 1, 0, 0, 0, 0, 0, 1, 0, 0, 0,\n",
       "       0, 1, 0, 0, 0, 1, 0, 0, 0, 0, 0, 0, 0, 0, 0, 0, 0, 0, 1, 0, 0, 1,\n",
       "       0, 1, 0, 0, 0, 1, 0, 0, 1, 0, 0, 0, 0, 0, 1, 0, 1, 0, 0, 1, 0, 1,\n",
       "       0, 1, 1, 0, 0, 0, 1, 0, 0, 1, 0, 0, 1, 1, 0, 0, 0, 0, 0, 1, 0, 0,\n",
       "       0, 1, 1, 0, 0, 0, 0, 0, 0, 0, 0, 0, 0, 0, 0, 0, 0, 0, 0, 0, 0, 1,\n",
       "       0, 0, 1, 0, 0, 0, 1, 0, 0, 0, 0, 0, 0, 1, 0, 0, 0, 0, 0, 0, 0, 0,\n",
       "       0, 0, 0, 0, 0, 0, 1, 0, 1, 0, 0, 0, 0, 1, 0, 0, 0, 0, 0, 0, 0, 0,\n",
       "       0, 0, 0, 1, 0, 1, 1, 0, 1])"
      ]
     },
     "execution_count": 9,
     "metadata": {},
     "output_type": "execute_result"
    }
   ],
   "source": [
    "y_pred = (y_pred_proba > 0.5).astype(int)\n",
    "y_pred"
   ]
  },
  {
   "cell_type": "code",
   "execution_count": 10,
   "id": "7c1c8b21-023b-483b-a4ff-ae8b42da6b79",
   "metadata": {
    "execution": {
     "iopub.execute_input": "2024-05-10T12:01:23.023552Z",
     "iopub.status.busy": "2024-05-10T12:01:23.023469Z",
     "iopub.status.idle": "2024-05-10T12:01:23.026600Z",
     "shell.execute_reply": "2024-05-10T12:01:23.026365Z"
    },
    "papermill": {
     "duration": 0.006564,
     "end_time": "2024-05-10T12:01:23.027222",
     "exception": false,
     "start_time": "2024-05-10T12:01:23.020658",
     "status": "completed"
    },
    "tags": []
   },
   "outputs": [
    {
     "data": {
      "text/html": [
       "<div>\n",
       "<style scoped>\n",
       "    .dataframe tbody tr th:only-of-type {\n",
       "        vertical-align: middle;\n",
       "    }\n",
       "\n",
       "    .dataframe tbody tr th {\n",
       "        vertical-align: top;\n",
       "    }\n",
       "\n",
       "    .dataframe thead th {\n",
       "        text-align: right;\n",
       "    }\n",
       "</style>\n",
       "<table border=\"1\" class=\"dataframe\">\n",
       "  <thead>\n",
       "    <tr style=\"text-align: right;\">\n",
       "      <th></th>\n",
       "      <th>y_real</th>\n",
       "      <th>y_pred_proba</th>\n",
       "      <th>y_pred</th>\n",
       "    </tr>\n",
       "  </thead>\n",
       "  <tbody>\n",
       "    <tr>\n",
       "      <th>286</th>\n",
       "      <td>0</td>\n",
       "      <td>0.277228</td>\n",
       "      <td>0</td>\n",
       "    </tr>\n",
       "    <tr>\n",
       "      <th>511</th>\n",
       "      <td>1</td>\n",
       "      <td>0.277228</td>\n",
       "      <td>0</td>\n",
       "    </tr>\n",
       "    <tr>\n",
       "      <th>...</th>\n",
       "      <td>...</td>\n",
       "      <td>...</td>\n",
       "      <td>...</td>\n",
       "    </tr>\n",
       "    <tr>\n",
       "      <th>674</th>\n",
       "      <td>0</td>\n",
       "      <td>0.277228</td>\n",
       "      <td>0</td>\n",
       "    </tr>\n",
       "    <tr>\n",
       "      <th>559</th>\n",
       "      <td>1</td>\n",
       "      <td>0.851852</td>\n",
       "      <td>1</td>\n",
       "    </tr>\n",
       "  </tbody>\n",
       "</table>\n",
       "<p>207 rows × 3 columns</p>\n",
       "</div>"
      ],
      "text/plain": [
       "     y_real  y_pred_proba  y_pred\n",
       "286       0      0.277228       0\n",
       "511       1      0.277228       0\n",
       "..      ...           ...     ...\n",
       "674       0      0.277228       0\n",
       "559       1      0.851852       1\n",
       "\n",
       "[207 rows x 3 columns]"
      ]
     },
     "execution_count": 10,
     "metadata": {},
     "output_type": "execute_result"
    }
   ],
   "source": [
    "df_pred = pd.DataFrame({\n",
    "    'y_real': y_test,\n",
    "    'y_pred_proba': y_pred_proba,\n",
    "    'y_pred': y_pred,\n",
    "})\n",
    "\n",
    "df_pred"
   ]
  },
  {
   "cell_type": "code",
   "execution_count": 11,
   "id": "005ca92a-675d-459b-aa4d-4f1756611468",
   "metadata": {
    "execution": {
     "iopub.execute_input": "2024-05-10T12:01:23.032671Z",
     "iopub.status.busy": "2024-05-10T12:01:23.032596Z",
     "iopub.status.idle": "2024-05-10T12:01:23.036316Z",
     "shell.execute_reply": "2024-05-10T12:01:23.036118Z"
    },
    "papermill": {
     "duration": 0.00714,
     "end_time": "2024-05-10T12:01:23.036934",
     "exception": false,
     "start_time": "2024-05-10T12:01:23.029794",
     "status": "completed"
    },
    "tags": []
   },
   "outputs": [
    {
     "data": {
      "text/html": [
       "<div>\n",
       "<style scoped>\n",
       "    .dataframe tbody tr th:only-of-type {\n",
       "        vertical-align: middle;\n",
       "    }\n",
       "\n",
       "    .dataframe tbody tr th {\n",
       "        vertical-align: top;\n",
       "    }\n",
       "\n",
       "    .dataframe thead th {\n",
       "        text-align: right;\n",
       "    }\n",
       "</style>\n",
       "<table border=\"1\" class=\"dataframe\">\n",
       "  <thead>\n",
       "    <tr style=\"text-align: right;\">\n",
       "      <th></th>\n",
       "      <th>y_real</th>\n",
       "      <th>y_pred_proba</th>\n",
       "      <th>y_pred</th>\n",
       "      <th>comp</th>\n",
       "    </tr>\n",
       "  </thead>\n",
       "  <tbody>\n",
       "    <tr>\n",
       "      <th>286</th>\n",
       "      <td>0</td>\n",
       "      <td>0.277228</td>\n",
       "      <td>0</td>\n",
       "      <td>True</td>\n",
       "    </tr>\n",
       "    <tr>\n",
       "      <th>511</th>\n",
       "      <td>1</td>\n",
       "      <td>0.277228</td>\n",
       "      <td>0</td>\n",
       "      <td>False</td>\n",
       "    </tr>\n",
       "    <tr>\n",
       "      <th>...</th>\n",
       "      <td>...</td>\n",
       "      <td>...</td>\n",
       "      <td>...</td>\n",
       "      <td>...</td>\n",
       "    </tr>\n",
       "    <tr>\n",
       "      <th>674</th>\n",
       "      <td>0</td>\n",
       "      <td>0.277228</td>\n",
       "      <td>0</td>\n",
       "      <td>True</td>\n",
       "    </tr>\n",
       "    <tr>\n",
       "      <th>559</th>\n",
       "      <td>1</td>\n",
       "      <td>0.851852</td>\n",
       "      <td>1</td>\n",
       "      <td>True</td>\n",
       "    </tr>\n",
       "  </tbody>\n",
       "</table>\n",
       "<p>207 rows × 4 columns</p>\n",
       "</div>"
      ],
      "text/plain": [
       "     y_real  y_pred_proba  y_pred   comp\n",
       "286       0      0.277228       0   True\n",
       "511       1      0.277228       0  False\n",
       "..      ...           ...     ...    ...\n",
       "674       0      0.277228       0   True\n",
       "559       1      0.851852       1   True\n",
       "\n",
       "[207 rows x 4 columns]"
      ]
     },
     "execution_count": 11,
     "metadata": {},
     "output_type": "execute_result"
    }
   ],
   "source": [
    "df_pred['comp'] = df_pred['y_real'] == df_pred['y_pred']\n",
    "df_pred"
   ]
  },
  {
   "cell_type": "markdown",
   "id": "ba6c26e1-b83e-4713-89ea-a119780c5107",
   "metadata": {
    "papermill": {
     "duration": 0.002669,
     "end_time": "2024-05-10T12:01:23.042284",
     "exception": false,
     "start_time": "2024-05-10T12:01:23.039615",
     "status": "completed"
    },
    "tags": []
   },
   "source": [
    "### Metrics"
   ]
  },
  {
   "cell_type": "markdown",
   "id": "f1232728-b91d-4d0b-aed8-86bf839d5f75",
   "metadata": {
    "papermill": {
     "duration": 0.003069,
     "end_time": "2024-05-10T12:01:23.048224",
     "exception": false,
     "start_time": "2024-05-10T12:01:23.045155",
     "status": "completed"
    },
    "tags": []
   },
   "source": [
    "#### Accuracy"
   ]
  },
  {
   "cell_type": "code",
   "execution_count": 12,
   "id": "ab741f57-0a57-4786-958d-9d3132a3d2c8",
   "metadata": {
    "execution": {
     "iopub.execute_input": "2024-05-10T12:01:23.054797Z",
     "iopub.status.busy": "2024-05-10T12:01:23.054682Z",
     "iopub.status.idle": "2024-05-10T12:01:23.056731Z",
     "shell.execute_reply": "2024-05-10T12:01:23.056539Z"
    },
    "papermill": {
     "duration": 0.005878,
     "end_time": "2024-05-10T12:01:23.057361",
     "exception": false,
     "start_time": "2024-05-10T12:01:23.051483",
     "status": "completed"
    },
    "tags": []
   },
   "outputs": [
    {
     "data": {
      "text/plain": [
       "141"
      ]
     },
     "execution_count": 12,
     "metadata": {},
     "output_type": "execute_result"
    }
   ],
   "source": [
    "success = df_pred['comp'].sum()\n",
    "success"
   ]
  },
  {
   "cell_type": "code",
   "execution_count": 13,
   "id": "0586cd70-06a5-4439-a332-b028a771fbe1",
   "metadata": {
    "execution": {
     "iopub.execute_input": "2024-05-10T12:01:23.063480Z",
     "iopub.status.busy": "2024-05-10T12:01:23.063398Z",
     "iopub.status.idle": "2024-05-10T12:01:23.064979Z",
     "shell.execute_reply": "2024-05-10T12:01:23.064793Z"
    },
    "papermill": {
     "duration": 0.005576,
     "end_time": "2024-05-10T12:01:23.065652",
     "exception": false,
     "start_time": "2024-05-10T12:01:23.060076",
     "status": "completed"
    },
    "tags": []
   },
   "outputs": [
    {
     "data": {
      "text/plain": [
       "207"
      ]
     },
     "execution_count": 13,
     "metadata": {},
     "output_type": "execute_result"
    }
   ],
   "source": [
    "total = len(df_pred)\n",
    "total"
   ]
  },
  {
   "cell_type": "code",
   "execution_count": 14,
   "id": "e99002da-c417-4278-8229-a29fb6ff05cc",
   "metadata": {
    "execution": {
     "iopub.execute_input": "2024-05-10T12:01:23.071965Z",
     "iopub.status.busy": "2024-05-10T12:01:23.071883Z",
     "iopub.status.idle": "2024-05-10T12:01:23.073676Z",
     "shell.execute_reply": "2024-05-10T12:01:23.073503Z"
    },
    "papermill": {
     "duration": 0.005547,
     "end_time": "2024-05-10T12:01:23.074334",
     "exception": false,
     "start_time": "2024-05-10T12:01:23.068787",
     "status": "completed"
    },
    "tags": []
   },
   "outputs": [
    {
     "data": {
      "text/plain": [
       "0.6811594202898551"
      ]
     },
     "execution_count": 14,
     "metadata": {},
     "output_type": "execute_result"
    }
   ],
   "source": [
    "success / total"
   ]
  },
  {
   "cell_type": "code",
   "execution_count": 15,
   "id": "78888a04-7762-46cc-80fe-45661d5e65ca",
   "metadata": {
    "execution": {
     "iopub.execute_input": "2024-05-10T12:01:23.080268Z",
     "iopub.status.busy": "2024-05-10T12:01:23.080172Z",
     "iopub.status.idle": "2024-05-10T12:01:23.083375Z",
     "shell.execute_reply": "2024-05-10T12:01:23.083124Z"
    },
    "papermill": {
     "duration": 0.007031,
     "end_time": "2024-05-10T12:01:23.084152",
     "exception": false,
     "start_time": "2024-05-10T12:01:23.077121",
     "status": "completed"
    },
    "tags": []
   },
   "outputs": [
    {
     "data": {
      "text/plain": [
       "0.6811594202898551"
      ]
     },
     "execution_count": 15,
     "metadata": {},
     "output_type": "execute_result"
    }
   ],
   "source": [
    "model.score(X_test, y_test)"
   ]
  },
  {
   "cell_type": "markdown",
   "id": "a7e80b6c-6b72-48e3-9f97-7bc63262d52e",
   "metadata": {
    "papermill": {
     "duration": 0.002794,
     "end_time": "2024-05-10T12:01:23.089937",
     "exception": false,
     "start_time": "2024-05-10T12:01:23.087143",
     "status": "completed"
    },
    "tags": []
   },
   "source": [
    "#### Confusion matrix"
   ]
  },
  {
   "cell_type": "code",
   "execution_count": 16,
   "id": "46db4584-76b7-4ab8-a461-0fb387215825",
   "metadata": {
    "execution": {
     "iopub.execute_input": "2024-05-10T12:01:23.097070Z",
     "iopub.status.busy": "2024-05-10T12:01:23.096958Z",
     "iopub.status.idle": "2024-05-10T12:01:23.356247Z",
     "shell.execute_reply": "2024-05-10T12:01:23.355569Z"
    },
    "papermill": {
     "duration": 0.264402,
     "end_time": "2024-05-10T12:01:23.358006",
     "exception": false,
     "start_time": "2024-05-10T12:01:23.093604",
     "status": "completed"
    },
    "tags": []
   },
   "outputs": [
    {
     "data": {
      "image/png": "[encoded data removed]",
      "text/plain": [
       "<Figure size 640x480 with 2 Axes>"
      ]
     },
     "metadata": {},
     "output_type": "display_data"
    }
   ],
   "source": [
    "from sklearn import metrics\n",
    "\n",
    "cm = metrics.confusion_matrix(y_true=y_test, y_pred=y_pred)\n",
    "display = metrics.ConfusionMatrixDisplay(cm)\n",
    "display.plot();"
   ]
  },
  {
   "cell_type": "markdown",
   "id": "e91a3527-4da1-4944-a68a-a949b9c0ed59",
   "metadata": {
    "papermill": {
     "duration": 0.003348,
     "end_time": "2024-05-10T12:01:23.367669",
     "exception": false,
     "start_time": "2024-05-10T12:01:23.364321",
     "status": "completed"
    },
    "tags": []
   },
   "source": [
    "#### Classification report"
   ]
  },
  {
   "cell_type": "code",
   "execution_count": 17,
   "id": "bc9d951d-b365-48c6-8b99-e711d0d0737b",
   "metadata": {
    "execution": {
     "iopub.execute_input": "2024-05-10T12:01:23.380923Z",
     "iopub.status.busy": "2024-05-10T12:01:23.380158Z",
     "iopub.status.idle": "2024-05-10T12:01:23.393880Z",
     "shell.execute_reply": "2024-05-10T12:01:23.393340Z"
    },
    "papermill": {
     "duration": 0.020997,
     "end_time": "2024-05-10T12:01:23.396788",
     "exception": false,
     "start_time": "2024-05-10T12:01:23.375791",
     "status": "completed"
    },
    "tags": []
   },
   "outputs": [
    {
     "data": {
      "text/html": [
       "<div>\n",
       "<style scoped>\n",
       "    .dataframe tbody tr th:only-of-type {\n",
       "        vertical-align: middle;\n",
       "    }\n",
       "\n",
       "    .dataframe tbody tr th {\n",
       "        vertical-align: top;\n",
       "    }\n",
       "\n",
       "    .dataframe thead th {\n",
       "        text-align: right;\n",
       "    }\n",
       "</style>\n",
       "<table border=\"1\" class=\"dataframe\">\n",
       "  <thead>\n",
       "    <tr style=\"text-align: right;\">\n",
       "      <th></th>\n",
       "      <th>0</th>\n",
       "      <th>1</th>\n",
       "      <th>accuracy</th>\n",
       "      <th>macro avg</th>\n",
       "      <th>weighted avg</th>\n",
       "    </tr>\n",
       "  </thead>\n",
       "  <tbody>\n",
       "    <tr>\n",
       "      <th>precision</th>\n",
       "      <td>0.635802</td>\n",
       "      <td>0.844444</td>\n",
       "      <td>0.681159</td>\n",
       "      <td>0.740123</td>\n",
       "      <td>0.733572</td>\n",
       "    </tr>\n",
       "    <tr>\n",
       "      <th>recall</th>\n",
       "      <td>0.936364</td>\n",
       "      <td>0.391753</td>\n",
       "      <td>0.681159</td>\n",
       "      <td>0.664058</td>\n",
       "      <td>0.681159</td>\n",
       "    </tr>\n",
       "    <tr>\n",
       "      <th>f1-score</th>\n",
       "      <td>0.757353</td>\n",
       "      <td>0.535211</td>\n",
       "      <td>0.681159</td>\n",
       "      <td>0.646282</td>\n",
       "      <td>0.653258</td>\n",
       "    </tr>\n",
       "    <tr>\n",
       "      <th>support</th>\n",
       "      <td>110.000000</td>\n",
       "      <td>97.000000</td>\n",
       "      <td>0.681159</td>\n",
       "      <td>207.000000</td>\n",
       "      <td>207.000000</td>\n",
       "    </tr>\n",
       "  </tbody>\n",
       "</table>\n",
       "</div>"
      ],
      "text/plain": [
       "                    0          1  accuracy   macro avg  weighted avg\n",
       "precision    0.635802   0.844444  0.681159    0.740123      0.733572\n",
       "recall       0.936364   0.391753  0.681159    0.664058      0.681159\n",
       "f1-score     0.757353   0.535211  0.681159    0.646282      0.653258\n",
       "support    110.000000  97.000000  0.681159  207.000000    207.000000"
      ]
     },
     "execution_count": 17,
     "metadata": {},
     "output_type": "execute_result"
    }
   ],
   "source": [
    "report = metrics.classification_report(y_true=y_test, y_pred=y_pred, output_dict=True)\n",
    "pd.DataFrame(report)"
   ]
  },
  {
   "cell_type": "markdown",
   "id": "7c72cc5d-062c-4538-90a3-cf8770d1958e",
   "metadata": {
    "papermill": {
     "duration": 0.0038,
     "end_time": "2024-05-10T12:01:23.409150",
     "exception": false,
     "start_time": "2024-05-10T12:01:23.405350",
     "status": "completed"
    },
    "tags": []
   },
   "source": [
    "#### ROC Curve\n",
    "\n",
    "https://www.youtube.com/watch?v=4jRBRDbJemM"
   ]
  },
  {
   "cell_type": "code",
   "execution_count": 18,
   "id": "92f99661-d8f1-480b-82b9-c7c2d93ced67",
   "metadata": {
    "execution": {
     "iopub.execute_input": "2024-05-10T12:01:23.417013Z",
     "iopub.status.busy": "2024-05-10T12:01:23.416717Z",
     "iopub.status.idle": "2024-05-10T12:01:23.489537Z",
     "shell.execute_reply": "2024-05-10T12:01:23.488260Z"
    },
    "papermill": {
     "duration": 0.079381,
     "end_time": "2024-05-10T12:01:23.491583",
     "exception": false,
     "start_time": "2024-05-10T12:01:23.412202",
     "status": "completed"
    },
    "tags": []
   },
   "outputs": [
    {
     "data": {
      "image/png": "[encoded data removed]",
      "text/plain": [
       "<Figure size 640x480 with 1 Axes>"
      ]
     },
     "metadata": {},
     "output_type": "display_data"
    }
   ],
   "source": [
    "fpr, tpr, thresholds = metrics.roc_curve(y_test, y_pred)\n",
    "roc_auc = metrics.auc(fpr, tpr)\n",
    "\n",
    "display = metrics.RocCurveDisplay(\n",
    "    fpr=fpr, tpr=tpr, roc_auc=roc_auc, estimator_name='example estimator')\n",
    "\n",
    "display.plot();"
   ]
  },
  {
   "cell_type": "markdown",
   "id": "b98f64b4-9021-46e8-a7ff-43c6efa85c16",
   "metadata": {
    "papermill": {
     "duration": 0.008191,
     "end_time": "2024-05-10T12:01:23.503723",
     "exception": false,
     "start_time": "2024-05-10T12:01:23.495532",
     "status": "completed"
    },
    "tags": []
   },
   "source": [
    "## Regressors"
   ]
  },
  {
   "cell_type": "markdown",
   "id": "df90193b-230c-4bd8-acb4-6c2108646fa0",
   "metadata": {
    "papermill": {
     "duration": 0.006106,
     "end_time": "2024-05-10T12:01:23.521809",
     "exception": false,
     "start_time": "2024-05-10T12:01:23.515703",
     "status": "completed"
    },
    "tags": []
   },
   "source": [
    "### Load data"
   ]
  },
  {
   "cell_type": "code",
   "execution_count": 19,
   "id": "e0b22d53-cae5-45d3-aada-249a6440e18d",
   "metadata": {
    "execution": {
     "iopub.execute_input": "2024-05-10T12:01:23.538482Z",
     "iopub.status.busy": "2024-05-10T12:01:23.537872Z",
     "iopub.status.idle": "2024-05-10T12:01:23.552199Z",
     "shell.execute_reply": "2024-05-10T12:01:23.551964Z"
    },
    "papermill": {
     "duration": 0.025597,
     "end_time": "2024-05-10T12:01:23.552942",
     "exception": false,
     "start_time": "2024-05-10T12:01:23.527345",
     "status": "completed"
    },
    "tags": []
   },
   "outputs": [
    {
     "data": {
      "text/html": [
       "<div>\n",
       "<style scoped>\n",
       "    .dataframe tbody tr th:only-of-type {\n",
       "        vertical-align: middle;\n",
       "    }\n",
       "\n",
       "    .dataframe tbody tr th {\n",
       "        vertical-align: top;\n",
       "    }\n",
       "\n",
       "    .dataframe thead th {\n",
       "        text-align: right;\n",
       "    }\n",
       "</style>\n",
       "<table border=\"1\" class=\"dataframe\">\n",
       "  <thead>\n",
       "    <tr style=\"text-align: right;\">\n",
       "      <th></th>\n",
       "      <th>PRICE</th>\n",
       "      <th>BEDROOMS</th>\n",
       "      <th>BATHROOMS</th>\n",
       "      <th>GARAGE</th>\n",
       "      <th>FLOOR_AREA</th>\n",
       "      <th>BUILD_YEAR</th>\n",
       "    </tr>\n",
       "    <tr>\n",
       "      <th>ADDRESS</th>\n",
       "      <th></th>\n",
       "      <th></th>\n",
       "      <th></th>\n",
       "      <th></th>\n",
       "      <th></th>\n",
       "      <th></th>\n",
       "    </tr>\n",
       "  </thead>\n",
       "  <tbody>\n",
       "    <tr>\n",
       "      <th>1 Datchet Turn</th>\n",
       "      <td>270000</td>\n",
       "      <td>3</td>\n",
       "      <td>2</td>\n",
       "      <td>2.0</td>\n",
       "      <td>109</td>\n",
       "      <td>2011.0</td>\n",
       "    </tr>\n",
       "    <tr>\n",
       "      <th>1 McKenzie Corner</th>\n",
       "      <td>470000</td>\n",
       "      <td>4</td>\n",
       "      <td>2</td>\n",
       "      <td>2.0</td>\n",
       "      <td>279</td>\n",
       "      <td>2005.0</td>\n",
       "    </tr>\n",
       "    <tr>\n",
       "      <th>...</th>\n",
       "      <td>...</td>\n",
       "      <td>...</td>\n",
       "      <td>...</td>\n",
       "      <td>...</td>\n",
       "      <td>...</td>\n",
       "      <td>...</td>\n",
       "    </tr>\n",
       "    <tr>\n",
       "      <th>93 Centennial Avenue</th>\n",
       "      <td>350000</td>\n",
       "      <td>4</td>\n",
       "      <td>2</td>\n",
       "      <td>2.0</td>\n",
       "      <td>177</td>\n",
       "      <td>2005.0</td>\n",
       "    </tr>\n",
       "    <tr>\n",
       "      <th>98 Centennial Avenue</th>\n",
       "      <td>441000</td>\n",
       "      <td>4</td>\n",
       "      <td>2</td>\n",
       "      <td>2.0</td>\n",
       "      <td>195</td>\n",
       "      <td>2004.0</td>\n",
       "    </tr>\n",
       "  </tbody>\n",
       "</table>\n",
       "<p>204 rows × 6 columns</p>\n",
       "</div>"
      ],
      "text/plain": [
       "                       PRICE  BEDROOMS  BATHROOMS  GARAGE  FLOOR_AREA  \\\n",
       "ADDRESS                                                                 \n",
       "1 Datchet Turn        270000         3          2     2.0         109   \n",
       "1 McKenzie Corner     470000         4          2     2.0         279   \n",
       "...                      ...       ...        ...     ...         ...   \n",
       "93 Centennial Avenue  350000         4          2     2.0         177   \n",
       "98 Centennial Avenue  441000         4          2     2.0         195   \n",
       "\n",
       "                      BUILD_YEAR  \n",
       "ADDRESS                           \n",
       "1 Datchet Turn            2011.0  \n",
       "1 McKenzie Corner         2005.0  \n",
       "...                          ...  \n",
       "93 Centennial Avenue      2005.0  \n",
       "98 Centennial Avenue      2004.0  \n",
       "\n",
       "[204 rows x 6 columns]"
      ]
     },
     "execution_count": 19,
     "metadata": {},
     "output_type": "execute_result"
    }
   ],
   "source": [
    "import pandas as pd\n",
    "\n",
    "df = pd.read_csv('../../../data/house_perth/output/ml_simple.csv', index_col=0)\n",
    "df"
   ]
  },
  {
   "cell_type": "markdown",
   "id": "284cf7ec-4090-4781-a511-ef86b16cf4a2",
   "metadata": {
    "papermill": {
     "duration": 0.003716,
     "end_time": "2024-05-10T12:01:23.561811",
     "exception": false,
     "start_time": "2024-05-10T12:01:23.558095",
     "status": "completed"
    },
    "tags": []
   },
   "source": [
    "### Feature selection"
   ]
  },
  {
   "cell_type": "code",
   "execution_count": 20,
   "id": "14acd055-d144-4be9-bb97-8d3a1f1144b2",
   "metadata": {
    "execution": {
     "iopub.execute_input": "2024-05-10T12:01:23.568684Z",
     "iopub.status.busy": "2024-05-10T12:01:23.568561Z",
     "iopub.status.idle": "2024-05-10T12:01:23.570576Z",
     "shell.execute_reply": "2024-05-10T12:01:23.570364Z"
    },
    "papermill": {
     "duration": 0.006381,
     "end_time": "2024-05-10T12:01:23.571339",
     "exception": false,
     "start_time": "2024-05-10T12:01:23.564958",
     "status": "completed"
    },
    "tags": []
   },
   "outputs": [],
   "source": [
    "y = df['PRICE']\n",
    "X = df.drop(columns='PRICE')"
   ]
  },
  {
   "cell_type": "markdown",
   "id": "c99eeb0f-da37-4f7f-9ec0-73765eaf032b",
   "metadata": {
    "papermill": {
     "duration": 0.003198,
     "end_time": "2024-05-10T12:01:23.577804",
     "exception": false,
     "start_time": "2024-05-10T12:01:23.574606",
     "status": "completed"
    },
    "tags": []
   },
   "source": [
    "### Train test split"
   ]
  },
  {
   "cell_type": "code",
   "execution_count": 21,
   "id": "0b1aac61-3dd9-4c9a-b5ac-1ceb69f72b93",
   "metadata": {
    "execution": {
     "iopub.execute_input": "2024-05-10T12:01:23.584405Z",
     "iopub.status.busy": "2024-05-10T12:01:23.584310Z",
     "iopub.status.idle": "2024-05-10T12:01:23.586990Z",
     "shell.execute_reply": "2024-05-10T12:01:23.586716Z"
    },
    "papermill": {
     "duration": 0.006868,
     "end_time": "2024-05-10T12:01:23.587752",
     "exception": false,
     "start_time": "2024-05-10T12:01:23.580884",
     "status": "completed"
    },
    "tags": []
   },
   "outputs": [],
   "source": [
    "from sklearn.model_selection import train_test_split\n",
    "\n",
    "X_train, X_test, y_train, y_test = train_test_split(\n",
    "    X, y, test_size=0.3, random_state=42)"
   ]
  },
  {
   "cell_type": "markdown",
   "id": "cfbe7eb0-d548-4fc3-ae34-f973fb837b3b",
   "metadata": {
    "papermill": {
     "duration": 0.003243,
     "end_time": "2024-05-10T12:01:23.594736",
     "exception": false,
     "start_time": "2024-05-10T12:01:23.591493",
     "status": "completed"
    },
    "tags": []
   },
   "source": [
    "### Modelling"
   ]
  },
  {
   "cell_type": "code",
   "execution_count": 22,
   "id": "6763b066-c25b-444e-baa7-b4bf48b87c2a",
   "metadata": {
    "execution": {
     "iopub.execute_input": "2024-05-10T12:01:23.601928Z",
     "iopub.status.busy": "2024-05-10T12:01:23.601792Z",
     "iopub.status.idle": "2024-05-10T12:01:23.604978Z",
     "shell.execute_reply": "2024-05-10T12:01:23.604703Z"
    },
    "papermill": {
     "duration": 0.007592,
     "end_time": "2024-05-10T12:01:23.605699",
     "exception": false,
     "start_time": "2024-05-10T12:01:23.598107",
     "status": "completed"
    },
    "tags": []
   },
   "outputs": [
    {
     "data": {
      "text/html": [
       "<style>#sk-container-id-2 {\n",
       "  /* Definition of color scheme common for light and dark mode */\n",
       "  --sklearn-color-text: black;\n",
       "  --sklearn-color-line: gray;\n",
       "  /* Definition of color scheme for unfitted estimators */\n",
       "  --sklearn-color-unfitted-level-0: #fff5e6;\n",
       "  --sklearn-color-unfitted-level-1: #f6e4d2;\n",
       "  --sklearn-color-unfitted-level-2: #ffe0b3;\n",
       "  --sklearn-color-unfitted-level-3: chocolate;\n",
       "  /* Definition of color scheme for fitted estimators */\n",
       "  --sklearn-color-fitted-level-0: #f0f8ff;\n",
       "  --sklearn-color-fitted-level-1: #d4ebff;\n",
       "  --sklearn-color-fitted-level-2: #b3dbfd;\n",
       "  --sklearn-color-fitted-level-3: cornflowerblue;\n",
       "\n",
       "  /* Specific color for light theme */\n",
       "  --sklearn-color-text-on-default-background: var(--sg-text-color, var(--theme-code-foreground, var(--jp-content-font-color1, black)));\n",
       "  --sklearn-color-background: var(--sg-background-color, var(--theme-background, var(--jp-layout-color0, white)));\n",
       "  --sklearn-color-border-box: var(--sg-text-color, var(--theme-code-foreground, var(--jp-content-font-color1, black)));\n",
       "  --sklearn-color-icon: #696969;\n",
       "\n",
       "  @media (prefers-color-scheme: dark) {\n",
       "    /* Redefinition of color scheme for dark theme */\n",
       "    --sklearn-color-text-on-default-background: var(--sg-text-color, var(--theme-code-foreground, var(--jp-content-font-color1, white)));\n",
       "    --sklearn-color-background: var(--sg-background-color, var(--theme-background, var(--jp-layout-color0, #111)));\n",
       "    --sklearn-color-border-box: var(--sg-text-color, var(--theme-code-foreground, var(--jp-content-font-color1, white)));\n",
       "    --sklearn-color-icon: #878787;\n",
       "  }\n",
       "}\n",
       "\n",
       "#sk-container-id-2 {\n",
       "  color: var(--sklearn-color-text);\n",
       "}\n",
       "\n",
       "#sk-container-id-2 pre {\n",
       "  padding: 0;\n",
       "}\n",
       "\n",
       "#sk-container-id-2 input.sk-hidden--visually {\n",
       "  border: 0;\n",
       "  clip: rect(1px 1px 1px 1px);\n",
       "  clip: rect(1px, 1px, 1px, 1px);\n",
       "  height: 1px;\n",
       "  margin: -1px;\n",
       "  overflow: hidden;\n",
       "  padding: 0;\n",
       "  position: absolute;\n",
       "  width: 1px;\n",
       "}\n",
       "\n",
       "#sk-container-id-2 div.sk-dashed-wrapped {\n",
       "  border: 1px dashed var(--sklearn-color-line);\n",
       "  margin: 0 0.4em 0.5em 0.4em;\n",
       "  box-sizing: border-box;\n",
       "  padding-bottom: 0.4em;\n",
       "  background-color: var(--sklearn-color-background);\n",
       "}\n",
       "\n",
       "#sk-container-id-2 div.sk-container {\n",
       "  /* jupyter's `normalize.less` sets `[hidden] { display: none; }`\n",
       "     but bootstrap.min.css set `[hidden] { display: none !important; }`\n",
       "     so we also need the `!important` here to be able to override the\n",
       "     default hidden behavior on the sphinx rendered scikit-learn.org.\n",
       "     See: https://github.com/scikit-learn/scikit-learn/issues/21755 */\n",
       "  display: inline-block !important;\n",
       "  position: relative;\n",
       "}\n",
       "\n",
       "#sk-container-id-2 div.sk-text-repr-fallback {\n",
       "  display: none;\n",
       "}\n",
       "\n",
       "div.sk-parallel-item,\n",
       "div.sk-serial,\n",
       "div.sk-item {\n",
       "  /* draw centered vertical line to link estimators */\n",
       "  background-image: linear-gradient(var(--sklearn-color-text-on-default-background), var(--sklearn-color-text-on-default-background));\n",
       "  background-size: 2px 100%;\n",
       "  background-repeat: no-repeat;\n",
       "  background-position: center center;\n",
       "}\n",
       "\n",
       "/* Parallel-specific style estimator block */\n",
       "\n",
       "#sk-container-id-2 div.sk-parallel-item::after {\n",
       "  content: \"\";\n",
       "  width: 100%;\n",
       "  border-bottom: 2px solid var(--sklearn-color-text-on-default-background);\n",
       "  flex-grow: 1;\n",
       "}\n",
       "\n",
       "#sk-container-id-2 div.sk-parallel {\n",
       "  display: flex;\n",
       "  align-items: stretch;\n",
       "  justify-content: center;\n",
       "  background-color: var(--sklearn-color-background);\n",
       "  position: relative;\n",
       "}\n",
       "\n",
       "#sk-container-id-2 div.sk-parallel-item {\n",
       "  display: flex;\n",
       "  flex-direction: column;\n",
       "}\n",
       "\n",
       "#sk-container-id-2 div.sk-parallel-item:first-child::after {\n",
       "  align-self: flex-end;\n",
       "  width: 50%;\n",
       "}\n",
       "\n",
       "#sk-container-id-2 div.sk-parallel-item:last-child::after {\n",
       "  align-self: flex-start;\n",
       "  width: 50%;\n",
       "}\n",
       "\n",
       "#sk-container-id-2 div.sk-parallel-item:only-child::after {\n",
       "  width: 0;\n",
       "}\n",
       "\n",
       "/* Serial-specific style estimator block */\n",
       "\n",
       "#sk-container-id-2 div.sk-serial {\n",
       "  display: flex;\n",
       "  flex-direction: column;\n",
       "  align-items: center;\n",
       "  background-color: var(--sklearn-color-background);\n",
       "  padding-right: 1em;\n",
       "  padding-left: 1em;\n",
       "}\n",
       "\n",
       "\n",
       "/* Toggleable style: style used for estimator/Pipeline/ColumnTransformer box that is\n",
       "clickable and can be expanded/collapsed.\n",
       "- Pipeline and ColumnTransformer use this feature and define the default style\n",
       "- Estimators will overwrite some part of the style using the `sk-estimator` class\n",
       "*/\n",
       "\n",
       "/* Pipeline and ColumnTransformer style (default) */\n",
       "\n",
       "#sk-container-id-2 div.sk-toggleable {\n",
       "  /* Default theme specific background. It is overwritten whether we have a\n",
       "  specific estimator or a Pipeline/ColumnTransformer */\n",
       "  background-color: var(--sklearn-color-background);\n",
       "}\n",
       "\n",
       "/* Toggleable label */\n",
       "#sk-container-id-2 label.sk-toggleable__label {\n",
       "  cursor: pointer;\n",
       "  display: block;\n",
       "  width: 100%;\n",
       "  margin-bottom: 0;\n",
       "  padding: 0.5em;\n",
       "  box-sizing: border-box;\n",
       "  text-align: center;\n",
       "}\n",
       "\n",
       "#sk-container-id-2 label.sk-toggleable__label-arrow:before {\n",
       "  /* Arrow on the left of the label */\n",
       "  content: \"▸\";\n",
       "  float: left;\n",
       "  margin-right: 0.25em;\n",
       "  color: var(--sklearn-color-icon);\n",
       "}\n",
       "\n",
       "#sk-container-id-2 label.sk-toggleable__label-arrow:hover:before {\n",
       "  color: var(--sklearn-color-text);\n",
       "}\n",
       "\n",
       "/* Toggleable content - dropdown */\n",
       "\n",
       "#sk-container-id-2 div.sk-toggleable__content {\n",
       "  max-height: 0;\n",
       "  max-width: 0;\n",
       "  overflow: hidden;\n",
       "  text-align: left;\n",
       "  /* unfitted */\n",
       "  background-color: var(--sklearn-color-unfitted-level-0);\n",
       "}\n",
       "\n",
       "#sk-container-id-2 div.sk-toggleable__content.fitted {\n",
       "  /* fitted */\n",
       "  background-color: var(--sklearn-color-fitted-level-0);\n",
       "}\n",
       "\n",
       "#sk-container-id-2 div.sk-toggleable__content pre {\n",
       "  margin: 0.2em;\n",
       "  border-radius: 0.25em;\n",
       "  color: var(--sklearn-color-text);\n",
       "  /* unfitted */\n",
       "  background-color: var(--sklearn-color-unfitted-level-0);\n",
       "}\n",
       "\n",
       "#sk-container-id-2 div.sk-toggleable__content.fitted pre {\n",
       "  /* unfitted */\n",
       "  background-color: var(--sklearn-color-fitted-level-0);\n",
       "}\n",
       "\n",
       "#sk-container-id-2 input.sk-toggleable__control:checked~div.sk-toggleable__content {\n",
       "  /* Expand drop-down */\n",
       "  max-height: 200px;\n",
       "  max-width: 100%;\n",
       "  overflow: auto;\n",
       "}\n",
       "\n",
       "#sk-container-id-2 input.sk-toggleable__control:checked~label.sk-toggleable__label-arrow:before {\n",
       "  content: \"▾\";\n",
       "}\n",
       "\n",
       "/* Pipeline/ColumnTransformer-specific style */\n",
       "\n",
       "#sk-container-id-2 div.sk-label input.sk-toggleable__control:checked~label.sk-toggleable__label {\n",
       "  color: var(--sklearn-color-text);\n",
       "  background-color: var(--sklearn-color-unfitted-level-2);\n",
       "}\n",
       "\n",
       "#sk-container-id-2 div.sk-label.fitted input.sk-toggleable__control:checked~label.sk-toggleable__label {\n",
       "  background-color: var(--sklearn-color-fitted-level-2);\n",
       "}\n",
       "\n",
       "/* Estimator-specific style */\n",
       "\n",
       "/* Colorize estimator box */\n",
       "#sk-container-id-2 div.sk-estimator input.sk-toggleable__control:checked~label.sk-toggleable__label {\n",
       "  /* unfitted */\n",
       "  background-color: var(--sklearn-color-unfitted-level-2);\n",
       "}\n",
       "\n",
       "#sk-container-id-2 div.sk-estimator.fitted input.sk-toggleable__control:checked~label.sk-toggleable__label {\n",
       "  /* fitted */\n",
       "  background-color: var(--sklearn-color-fitted-level-2);\n",
       "}\n",
       "\n",
       "#sk-container-id-2 div.sk-label label.sk-toggleable__label,\n",
       "#sk-container-id-2 div.sk-label label {\n",
       "  /* The background is the default theme color */\n",
       "  color: var(--sklearn-color-text-on-default-background);\n",
       "}\n",
       "\n",
       "/* On hover, darken the color of the background */\n",
       "#sk-container-id-2 div.sk-label:hover label.sk-toggleable__label {\n",
       "  color: var(--sklearn-color-text);\n",
       "  background-color: var(--sklearn-color-unfitted-level-2);\n",
       "}\n",
       "\n",
       "/* Label box, darken color on hover, fitted */\n",
       "#sk-container-id-2 div.sk-label.fitted:hover label.sk-toggleable__label.fitted {\n",
       "  color: var(--sklearn-color-text);\n",
       "  background-color: var(--sklearn-color-fitted-level-2);\n",
       "}\n",
       "\n",
       "/* Estimator label */\n",
       "\n",
       "#sk-container-id-2 div.sk-label label {\n",
       "  font-family: monospace;\n",
       "  font-weight: bold;\n",
       "  display: inline-block;\n",
       "  line-height: 1.2em;\n",
       "}\n",
       "\n",
       "#sk-container-id-2 div.sk-label-container {\n",
       "  text-align: center;\n",
       "}\n",
       "\n",
       "/* Estimator-specific */\n",
       "#sk-container-id-2 div.sk-estimator {\n",
       "  font-family: monospace;\n",
       "  border: 1px dotted var(--sklearn-color-border-box);\n",
       "  border-radius: 0.25em;\n",
       "  box-sizing: border-box;\n",
       "  margin-bottom: 0.5em;\n",
       "  /* unfitted */\n",
       "  background-color: var(--sklearn-color-unfitted-level-0);\n",
       "}\n",
       "\n",
       "#sk-container-id-2 div.sk-estimator.fitted {\n",
       "  /* fitted */\n",
       "  background-color: var(--sklearn-color-fitted-level-0);\n",
       "}\n",
       "\n",
       "/* on hover */\n",
       "#sk-container-id-2 div.sk-estimator:hover {\n",
       "  /* unfitted */\n",
       "  background-color: var(--sklearn-color-unfitted-level-2);\n",
       "}\n",
       "\n",
       "#sk-container-id-2 div.sk-estimator.fitted:hover {\n",
       "  /* fitted */\n",
       "  background-color: var(--sklearn-color-fitted-level-2);\n",
       "}\n",
       "\n",
       "/* Specification for estimator info (e.g. \"i\" and \"?\") */\n",
       "\n",
       "/* Common style for \"i\" and \"?\" */\n",
       "\n",
       ".sk-estimator-doc-link,\n",
       "a:link.sk-estimator-doc-link,\n",
       "a:visited.sk-estimator-doc-link {\n",
       "  float: right;\n",
       "  font-size: smaller;\n",
       "  line-height: 1em;\n",
       "  font-family: monospace;\n",
       "  background-color: var(--sklearn-color-background);\n",
       "  border-radius: 1em;\n",
       "  height: 1em;\n",
       "  width: 1em;\n",
       "  text-decoration: none !important;\n",
       "  margin-left: 1ex;\n",
       "  /* unfitted */\n",
       "  border: var(--sklearn-color-unfitted-level-1) 1pt solid;\n",
       "  color: var(--sklearn-color-unfitted-level-1);\n",
       "}\n",
       "\n",
       ".sk-estimator-doc-link.fitted,\n",
       "a:link.sk-estimator-doc-link.fitted,\n",
       "a:visited.sk-estimator-doc-link.fitted {\n",
       "  /* fitted */\n",
       "  border: var(--sklearn-color-fitted-level-1) 1pt solid;\n",
       "  color: var(--sklearn-color-fitted-level-1);\n",
       "}\n",
       "\n",
       "/* On hover */\n",
       "div.sk-estimator:hover .sk-estimator-doc-link:hover,\n",
       ".sk-estimator-doc-link:hover,\n",
       "div.sk-label-container:hover .sk-estimator-doc-link:hover,\n",
       ".sk-estimator-doc-link:hover {\n",
       "  /* unfitted */\n",
       "  background-color: var(--sklearn-color-unfitted-level-3);\n",
       "  color: var(--sklearn-color-background);\n",
       "  text-decoration: none;\n",
       "}\n",
       "\n",
       "div.sk-estimator.fitted:hover .sk-estimator-doc-link.fitted:hover,\n",
       ".sk-estimator-doc-link.fitted:hover,\n",
       "div.sk-label-container:hover .sk-estimator-doc-link.fitted:hover,\n",
       ".sk-estimator-doc-link.fitted:hover {\n",
       "  /* fitted */\n",
       "  background-color: var(--sklearn-color-fitted-level-3);\n",
       "  color: var(--sklearn-color-background);\n",
       "  text-decoration: none;\n",
       "}\n",
       "\n",
       "/* Span, style for the box shown on hovering the info icon */\n",
       ".sk-estimator-doc-link span {\n",
       "  display: none;\n",
       "  z-index: 9999;\n",
       "  position: relative;\n",
       "  font-weight: normal;\n",
       "  right: .2ex;\n",
       "  padding: .5ex;\n",
       "  margin: .5ex;\n",
       "  width: min-content;\n",
       "  min-width: 20ex;\n",
       "  max-width: 50ex;\n",
       "  color: var(--sklearn-color-text);\n",
       "  box-shadow: 2pt 2pt 4pt #999;\n",
       "  /* unfitted */\n",
       "  background: var(--sklearn-color-unfitted-level-0);\n",
       "  border: .5pt solid var(--sklearn-color-unfitted-level-3);\n",
       "}\n",
       "\n",
       ".sk-estimator-doc-link.fitted span {\n",
       "  /* fitted */\n",
       "  background: var(--sklearn-color-fitted-level-0);\n",
       "  border: var(--sklearn-color-fitted-level-3);\n",
       "}\n",
       "\n",
       ".sk-estimator-doc-link:hover span {\n",
       "  display: block;\n",
       "}\n",
       "\n",
       "/* \"?\"-specific style due to the `<a>` HTML tag */\n",
       "\n",
       "#sk-container-id-2 a.estimator_doc_link {\n",
       "  float: right;\n",
       "  font-size: 1rem;\n",
       "  line-height: 1em;\n",
       "  font-family: monospace;\n",
       "  background-color: var(--sklearn-color-background);\n",
       "  border-radius: 1rem;\n",
       "  height: 1rem;\n",
       "  width: 1rem;\n",
       "  text-decoration: none;\n",
       "  /* unfitted */\n",
       "  color: var(--sklearn-color-unfitted-level-1);\n",
       "  border: var(--sklearn-color-unfitted-level-1) 1pt solid;\n",
       "}\n",
       "\n",
       "#sk-container-id-2 a.estimator_doc_link.fitted {\n",
       "  /* fitted */\n",
       "  border: var(--sklearn-color-fitted-level-1) 1pt solid;\n",
       "  color: var(--sklearn-color-fitted-level-1);\n",
       "}\n",
       "\n",
       "/* On hover */\n",
       "#sk-container-id-2 a.estimator_doc_link:hover {\n",
       "  /* unfitted */\n",
       "  background-color: var(--sklearn-color-unfitted-level-3);\n",
       "  color: var(--sklearn-color-background);\n",
       "  text-decoration: none;\n",
       "}\n",
       "\n",
       "#sk-container-id-2 a.estimator_doc_link.fitted:hover {\n",
       "  /* fitted */\n",
       "  background-color: var(--sklearn-color-fitted-level-3);\n",
       "}\n",
       "</style><div id=\"sk-container-id-2\" class=\"sk-top-container\"><div class=\"sk-text-repr-fallback\"><pre>LinearRegression()</pre><b>In a Jupyter environment, please rerun this cell to show the HTML representation or trust the notebook. <br />On GitHub, the HTML representation is unable to render, please try loading this page with nbviewer.org.</b></div><div class=\"sk-container\" hidden><div class=\"sk-item\"><div class=\"sk-estimator fitted sk-toggleable\"><input class=\"sk-toggleable__control sk-hidden--visually\" id=\"sk-estimator-id-2\" type=\"checkbox\" checked><label for=\"sk-estimator-id-2\" class=\"sk-toggleable__label fitted sk-toggleable__label-arrow fitted\">&nbsp;&nbsp;LinearRegression<a class=\"sk-estimator-doc-link fitted\" rel=\"noreferrer\" target=\"_blank\" href=\"https://scikit-learn.org/1.4/modules/generated/sklearn.linear_model.LinearRegression.html\">?<span>Documentation for LinearRegression</span></a><span class=\"sk-estimator-doc-link fitted\">i<span>Fitted</span></span></label><div class=\"sk-toggleable__content fitted\"><pre>LinearRegression()</pre></div> </div></div></div></div>"
      ],
      "text/plain": [
       "LinearRegression()"
      ]
     },
     "execution_count": 22,
     "metadata": {},
     "output_type": "execute_result"
    }
   ],
   "source": [
    "from sklearn.linear_model import LinearRegression\n",
    "\n",
    "model = LinearRegression()\n",
    "model.fit(X_train, y_train)"
   ]
  },
  {
   "cell_type": "markdown",
   "id": "ad790400-f5df-4a1b-b191-72d10aae064f",
   "metadata": {
    "papermill": {
     "duration": 0.003343,
     "end_time": "2024-05-10T12:01:23.612539",
     "exception": false,
     "start_time": "2024-05-10T12:01:23.609196",
     "status": "completed"
    },
    "tags": []
   },
   "source": [
    "### Predictions"
   ]
  },
  {
   "cell_type": "code",
   "execution_count": 23,
   "id": "df4f18b4-2d06-44b8-b60a-4f941599209d",
   "metadata": {
    "execution": {
     "iopub.execute_input": "2024-05-10T12:01:23.620137Z",
     "iopub.status.busy": "2024-05-10T12:01:23.620019Z",
     "iopub.status.idle": "2024-05-10T12:01:23.623978Z",
     "shell.execute_reply": "2024-05-10T12:01:23.623748Z"
    },
    "papermill": {
     "duration": 0.008565,
     "end_time": "2024-05-10T12:01:23.624674",
     "exception": false,
     "start_time": "2024-05-10T12:01:23.616109",
     "status": "completed"
    },
    "tags": []
   },
   "outputs": [
    {
     "data": {
      "text/html": [
       "<div>\n",
       "<style scoped>\n",
       "    .dataframe tbody tr th:only-of-type {\n",
       "        vertical-align: middle;\n",
       "    }\n",
       "\n",
       "    .dataframe tbody tr th {\n",
       "        vertical-align: top;\n",
       "    }\n",
       "\n",
       "    .dataframe thead th {\n",
       "        text-align: right;\n",
       "    }\n",
       "</style>\n",
       "<table border=\"1\" class=\"dataframe\">\n",
       "  <thead>\n",
       "    <tr style=\"text-align: right;\">\n",
       "      <th></th>\n",
       "      <th>y_real</th>\n",
       "      <th>y_pred</th>\n",
       "    </tr>\n",
       "    <tr>\n",
       "      <th>ADDRESS</th>\n",
       "      <th></th>\n",
       "      <th></th>\n",
       "    </tr>\n",
       "  </thead>\n",
       "  <tbody>\n",
       "    <tr>\n",
       "      <th>117 Millbrook Avenue</th>\n",
       "      <td>305000</td>\n",
       "      <td>287306.988737</td>\n",
       "    </tr>\n",
       "    <tr>\n",
       "      <th>10 Yelka Way</th>\n",
       "      <td>460000</td>\n",
       "      <td>424269.757503</td>\n",
       "    </tr>\n",
       "    <tr>\n",
       "      <th>...</th>\n",
       "      <td>...</td>\n",
       "      <td>...</td>\n",
       "    </tr>\n",
       "    <tr>\n",
       "      <th>26 Keyham Street</th>\n",
       "      <td>400000</td>\n",
       "      <td>382523.037292</td>\n",
       "    </tr>\n",
       "    <tr>\n",
       "      <th>7 Millom Way</th>\n",
       "      <td>360000</td>\n",
       "      <td>288644.595117</td>\n",
       "    </tr>\n",
       "  </tbody>\n",
       "</table>\n",
       "<p>62 rows × 2 columns</p>\n",
       "</div>"
      ],
      "text/plain": [
       "                      y_real         y_pred\n",
       "ADDRESS                                    \n",
       "117 Millbrook Avenue  305000  287306.988737\n",
       "10 Yelka Way          460000  424269.757503\n",
       "...                      ...            ...\n",
       "26 Keyham Street      400000  382523.037292\n",
       "7 Millom Way          360000  288644.595117\n",
       "\n",
       "[62 rows x 2 columns]"
      ]
     },
     "execution_count": 23,
     "metadata": {},
     "output_type": "execute_result"
    }
   ],
   "source": [
    "y_pred = model.predict(X_test)\n",
    "\n",
    "df_pred = pd.DataFrame({\n",
    "    'y_real': y_test,\n",
    "    'y_pred': y_pred,\n",
    "})\n",
    "\n",
    "df_pred"
   ]
  },
  {
   "cell_type": "code",
   "execution_count": 24,
   "id": "1d21b3b3-add0-4e23-bae2-ecb02740b6b7",
   "metadata": {
    "execution": {
     "iopub.execute_input": "2024-05-10T12:01:23.633967Z",
     "iopub.status.busy": "2024-05-10T12:01:23.633851Z",
     "iopub.status.idle": "2024-05-10T12:01:23.637489Z",
     "shell.execute_reply": "2024-05-10T12:01:23.637271Z"
    },
    "papermill": {
     "duration": 0.009445,
     "end_time": "2024-05-10T12:01:23.638189",
     "exception": false,
     "start_time": "2024-05-10T12:01:23.628744",
     "status": "completed"
    },
    "tags": []
   },
   "outputs": [
    {
     "data": {
      "text/html": [
       "<div>\n",
       "<style scoped>\n",
       "    .dataframe tbody tr th:only-of-type {\n",
       "        vertical-align: middle;\n",
       "    }\n",
       "\n",
       "    .dataframe tbody tr th {\n",
       "        vertical-align: top;\n",
       "    }\n",
       "\n",
       "    .dataframe thead th {\n",
       "        text-align: right;\n",
       "    }\n",
       "</style>\n",
       "<table border=\"1\" class=\"dataframe\">\n",
       "  <thead>\n",
       "    <tr style=\"text-align: right;\">\n",
       "      <th></th>\n",
       "      <th>y_real</th>\n",
       "      <th>y_pred</th>\n",
       "      <th>error</th>\n",
       "    </tr>\n",
       "    <tr>\n",
       "      <th>ADDRESS</th>\n",
       "      <th></th>\n",
       "      <th></th>\n",
       "      <th></th>\n",
       "    </tr>\n",
       "  </thead>\n",
       "  <tbody>\n",
       "    <tr>\n",
       "      <th>117 Millbrook Avenue</th>\n",
       "      <td>305000</td>\n",
       "      <td>287306.988737</td>\n",
       "      <td>17693.011263</td>\n",
       "    </tr>\n",
       "    <tr>\n",
       "      <th>10 Yelka Way</th>\n",
       "      <td>460000</td>\n",
       "      <td>424269.757503</td>\n",
       "      <td>35730.242497</td>\n",
       "    </tr>\n",
       "    <tr>\n",
       "      <th>...</th>\n",
       "      <td>...</td>\n",
       "      <td>...</td>\n",
       "      <td>...</td>\n",
       "    </tr>\n",
       "    <tr>\n",
       "      <th>26 Keyham Street</th>\n",
       "      <td>400000</td>\n",
       "      <td>382523.037292</td>\n",
       "      <td>17476.962708</td>\n",
       "    </tr>\n",
       "    <tr>\n",
       "      <th>7 Millom Way</th>\n",
       "      <td>360000</td>\n",
       "      <td>288644.595117</td>\n",
       "      <td>71355.404883</td>\n",
       "    </tr>\n",
       "  </tbody>\n",
       "</table>\n",
       "<p>62 rows × 3 columns</p>\n",
       "</div>"
      ],
      "text/plain": [
       "                      y_real         y_pred         error\n",
       "ADDRESS                                                  \n",
       "117 Millbrook Avenue  305000  287306.988737  17693.011263\n",
       "10 Yelka Way          460000  424269.757503  35730.242497\n",
       "...                      ...            ...           ...\n",
       "26 Keyham Street      400000  382523.037292  17476.962708\n",
       "7 Millom Way          360000  288644.595117  71355.404883\n",
       "\n",
       "[62 rows x 3 columns]"
      ]
     },
     "execution_count": 24,
     "metadata": {},
     "output_type": "execute_result"
    }
   ],
   "source": [
    "df_pred['error'] = df_pred['y_real'] - df_pred['y_pred']\n",
    "df_pred"
   ]
  },
  {
   "cell_type": "code",
   "execution_count": 25,
   "id": "731ad5bf-fabb-42de-9489-78719b256d49",
   "metadata": {
    "execution": {
     "iopub.execute_input": "2024-05-10T12:01:23.645836Z",
     "iopub.status.busy": "2024-05-10T12:01:23.645727Z",
     "iopub.status.idle": "2024-05-10T12:01:23.649028Z",
     "shell.execute_reply": "2024-05-10T12:01:23.648834Z"
    },
    "papermill": {
     "duration": 0.007867,
     "end_time": "2024-05-10T12:01:23.649694",
     "exception": false,
     "start_time": "2024-05-10T12:01:23.641827",
     "status": "completed"
    },
    "tags": []
   },
   "outputs": [
    {
     "data": {
      "text/html": [
       "<div>\n",
       "<style scoped>\n",
       "    .dataframe tbody tr th:only-of-type {\n",
       "        vertical-align: middle;\n",
       "    }\n",
       "\n",
       "    .dataframe tbody tr th {\n",
       "        vertical-align: top;\n",
       "    }\n",
       "\n",
       "    .dataframe thead th {\n",
       "        text-align: right;\n",
       "    }\n",
       "</style>\n",
       "<table border=\"1\" class=\"dataframe\">\n",
       "  <thead>\n",
       "    <tr style=\"text-align: right;\">\n",
       "      <th></th>\n",
       "      <th>y_real</th>\n",
       "      <th>y_pred</th>\n",
       "      <th>error</th>\n",
       "      <th>error2</th>\n",
       "    </tr>\n",
       "    <tr>\n",
       "      <th>ADDRESS</th>\n",
       "      <th></th>\n",
       "      <th></th>\n",
       "      <th></th>\n",
       "      <th></th>\n",
       "    </tr>\n",
       "  </thead>\n",
       "  <tbody>\n",
       "    <tr>\n",
       "      <th>117 Millbrook Avenue</th>\n",
       "      <td>305000</td>\n",
       "      <td>287306.988737</td>\n",
       "      <td>17693.011263</td>\n",
       "      <td>3.130426e+08</td>\n",
       "    </tr>\n",
       "    <tr>\n",
       "      <th>10 Yelka Way</th>\n",
       "      <td>460000</td>\n",
       "      <td>424269.757503</td>\n",
       "      <td>35730.242497</td>\n",
       "      <td>1.276650e+09</td>\n",
       "    </tr>\n",
       "    <tr>\n",
       "      <th>...</th>\n",
       "      <td>...</td>\n",
       "      <td>...</td>\n",
       "      <td>...</td>\n",
       "      <td>...</td>\n",
       "    </tr>\n",
       "    <tr>\n",
       "      <th>26 Keyham Street</th>\n",
       "      <td>400000</td>\n",
       "      <td>382523.037292</td>\n",
       "      <td>17476.962708</td>\n",
       "      <td>3.054442e+08</td>\n",
       "    </tr>\n",
       "    <tr>\n",
       "      <th>7 Millom Way</th>\n",
       "      <td>360000</td>\n",
       "      <td>288644.595117</td>\n",
       "      <td>71355.404883</td>\n",
       "      <td>5.091594e+09</td>\n",
       "    </tr>\n",
       "  </tbody>\n",
       "</table>\n",
       "<p>62 rows × 4 columns</p>\n",
       "</div>"
      ],
      "text/plain": [
       "                      y_real         y_pred         error        error2\n",
       "ADDRESS                                                                \n",
       "117 Millbrook Avenue  305000  287306.988737  17693.011263  3.130426e+08\n",
       "10 Yelka Way          460000  424269.757503  35730.242497  1.276650e+09\n",
       "...                      ...            ...           ...           ...\n",
       "26 Keyham Street      400000  382523.037292  17476.962708  3.054442e+08\n",
       "7 Millom Way          360000  288644.595117  71355.404883  5.091594e+09\n",
       "\n",
       "[62 rows x 4 columns]"
      ]
     },
     "execution_count": 25,
     "metadata": {},
     "output_type": "execute_result"
    }
   ],
   "source": [
    "df_pred['error2'] = df_pred['error']**2\n",
    "df_pred"
   ]
  },
  {
   "cell_type": "markdown",
   "id": "19ff4f86-7a14-48f1-b92d-cec170a10a93",
   "metadata": {
    "papermill": {
     "duration": 0.003453,
     "end_time": "2024-05-10T12:01:23.656667",
     "exception": false,
     "start_time": "2024-05-10T12:01:23.653214",
     "status": "completed"
    },
    "tags": []
   },
   "source": [
    "### Metrics"
   ]
  },
  {
   "cell_type": "markdown",
   "id": "2ecc2658-fc3c-48f4-8866-a7609a4fde51",
   "metadata": {
    "papermill": {
     "duration": 0.003468,
     "end_time": "2024-05-10T12:01:23.663733",
     "exception": false,
     "start_time": "2024-05-10T12:01:23.660265",
     "status": "completed"
    },
    "tags": []
   },
   "source": [
    "#### MSE: Mean Squared Error"
   ]
  },
  {
   "cell_type": "code",
   "execution_count": 26,
   "id": "a4946a72-2e01-4356-ad56-99ae027c92c8",
   "metadata": {
    "execution": {
     "iopub.execute_input": "2024-05-10T12:01:23.671064Z",
     "iopub.status.busy": "2024-05-10T12:01:23.670954Z",
     "iopub.status.idle": "2024-05-10T12:01:23.672995Z",
     "shell.execute_reply": "2024-05-10T12:01:23.672803Z"
    },
    "papermill": {
     "duration": 0.006469,
     "end_time": "2024-05-10T12:01:23.673620",
     "exception": false,
     "start_time": "2024-05-10T12:01:23.667151",
     "status": "completed"
    },
    "tags": []
   },
   "outputs": [
    {
     "data": {
      "text/plain": [
       "1164969171.5051486"
      ]
     },
     "execution_count": 26,
     "metadata": {},
     "output_type": "execute_result"
    }
   ],
   "source": [
    "MSE = df_pred.error2.mean()\n",
    "MSE"
   ]
  },
  {
   "cell_type": "code",
   "execution_count": 27,
   "id": "0b0e91e6-aca4-4fbc-aad3-011f0664e82a",
   "metadata": {
    "execution": {
     "iopub.execute_input": "2024-05-10T12:01:23.681048Z",
     "iopub.status.busy": "2024-05-10T12:01:23.680952Z",
     "iopub.status.idle": "2024-05-10T12:01:23.683141Z",
     "shell.execute_reply": "2024-05-10T12:01:23.682928Z"
    },
    "papermill": {
     "duration": 0.006687,
     "end_time": "2024-05-10T12:01:23.683751",
     "exception": false,
     "start_time": "2024-05-10T12:01:23.677064",
     "status": "completed"
    },
    "tags": []
   },
   "outputs": [
    {
     "data": {
      "text/plain": [
       "1164969171.5051486"
      ]
     },
     "execution_count": 27,
     "metadata": {},
     "output_type": "execute_result"
    }
   ],
   "source": [
    "metrics.mean_squared_error(y_test, y_pred)"
   ]
  },
  {
   "cell_type": "markdown",
   "id": "4a4e2acd-6eaf-4060-9c24-9f1795e7697b",
   "metadata": {
    "papermill": {
     "duration": 0.003524,
     "end_time": "2024-05-10T12:01:23.691484",
     "exception": false,
     "start_time": "2024-05-10T12:01:23.687960",
     "status": "completed"
    },
    "tags": []
   },
   "source": [
    "#### RMSE: Root Mean Squared Error"
   ]
  },
  {
   "cell_type": "code",
   "execution_count": 28,
   "id": "5f4acc9b-7e0a-474b-aefb-a79a40d226bd",
   "metadata": {
    "execution": {
     "iopub.execute_input": "2024-05-10T12:01:23.698962Z",
     "iopub.status.busy": "2024-05-10T12:01:23.698866Z",
     "iopub.status.idle": "2024-05-10T12:01:23.700762Z",
     "shell.execute_reply": "2024-05-10T12:01:23.700574Z"
    },
    "papermill": {
     "duration": 0.006368,
     "end_time": "2024-05-10T12:01:23.701361",
     "exception": false,
     "start_time": "2024-05-10T12:01:23.694993",
     "status": "completed"
    },
    "tags": []
   },
   "outputs": [
    {
     "data": {
      "text/plain": [
       "34131.644723118"
      ]
     },
     "execution_count": 28,
     "metadata": {},
     "output_type": "execute_result"
    }
   ],
   "source": [
    "import numpy as np\n",
    "\n",
    "RMSE = np.sqrt(MSE)\n",
    "RMSE"
   ]
  },
  {
   "cell_type": "code",
   "execution_count": 29,
   "id": "2faf54ed-6d0e-4711-8a6b-0152627f4227",
   "metadata": {
    "execution": {
     "iopub.execute_input": "2024-05-10T12:01:23.709492Z",
     "iopub.status.busy": "2024-05-10T12:01:23.709405Z",
     "iopub.status.idle": "2024-05-10T12:01:23.711522Z",
     "shell.execute_reply": "2024-05-10T12:01:23.711327Z"
    },
    "papermill": {
     "duration": 0.007212,
     "end_time": "2024-05-10T12:01:23.712171",
     "exception": false,
     "start_time": "2024-05-10T12:01:23.704959",
     "status": "completed"
    },
    "tags": []
   },
   "outputs": [
    {
     "data": {
      "text/plain": [
       "34131.644723118"
      ]
     },
     "execution_count": 29,
     "metadata": {},
     "output_type": "execute_result"
    }
   ],
   "source": [
    "metrics.root_mean_squared_error(y_test, y_pred)"
   ]
  },
  {
   "cell_type": "markdown",
   "id": "85ba9786-c2dd-4177-8558-9517866a903f",
   "metadata": {
    "papermill": {
     "duration": 0.003612,
     "end_time": "2024-05-10T12:01:23.719489",
     "exception": false,
     "start_time": "2024-05-10T12:01:23.715877",
     "status": "completed"
    },
    "tags": []
   },
   "source": [
    "#### R-Squared"
   ]
  },
  {
   "cell_type": "code",
   "execution_count": 30,
   "id": "6d1ee56a-f371-4b18-af92-7c2a22818254",
   "metadata": {
    "execution": {
     "iopub.execute_input": "2024-05-10T12:01:23.727617Z",
     "iopub.status.busy": "2024-05-10T12:01:23.727512Z",
     "iopub.status.idle": "2024-05-10T12:01:23.730081Z",
     "shell.execute_reply": "2024-05-10T12:01:23.729890Z"
    },
    "papermill": {
     "duration": 0.007286,
     "end_time": "2024-05-10T12:01:23.730704",
     "exception": false,
     "start_time": "2024-05-10T12:01:23.723418",
     "status": "completed"
    },
    "tags": []
   },
   "outputs": [
    {
     "data": {
      "text/plain": [
       "ADDRESS\n",
       "117 Millbrook Avenue    6.147066e+09\n",
       "10 Yelka Way            5.867066e+09\n",
       "                            ...     \n",
       "26 Keyham Street        2.754529e+08\n",
       "7 Millom Way            5.477110e+08\n",
       "Name: PRICE, Length: 62, dtype: float64"
      ]
     },
     "execution_count": 30,
     "metadata": {},
     "output_type": "execute_result"
    }
   ],
   "source": [
    "error = y_test - y_test.mean()\n",
    "error2 = error**2\n",
    "error2"
   ]
  },
  {
   "cell_type": "code",
   "execution_count": 31,
   "id": "6de38aea-d1c7-44e4-a55e-c67685950aa4",
   "metadata": {
    "execution": {
     "iopub.execute_input": "2024-05-10T12:01:23.738865Z",
     "iopub.status.busy": "2024-05-10T12:01:23.738771Z",
     "iopub.status.idle": "2024-05-10T12:01:23.740859Z",
     "shell.execute_reply": "2024-05-10T12:01:23.740662Z"
    },
    "papermill": {
     "duration": 0.0069,
     "end_time": "2024-05-10T12:01:23.741481",
     "exception": false,
     "start_time": "2024-05-10T12:01:23.734581",
     "status": "completed"
    },
    "tags": []
   },
   "outputs": [
    {
     "data": {
      "text/plain": [
       "3047119667.0135283"
      ]
     },
     "execution_count": 31,
     "metadata": {},
     "output_type": "execute_result"
    }
   ],
   "source": [
    "MSE_Y = error2.mean()\n",
    "MSE_Y"
   ]
  },
  {
   "cell_type": "code",
   "execution_count": 32,
   "id": "3e24a7ed-1453-4548-a657-9f784b4b706b",
   "metadata": {
    "execution": {
     "iopub.execute_input": "2024-05-10T12:01:23.749623Z",
     "iopub.status.busy": "2024-05-10T12:01:23.749526Z",
     "iopub.status.idle": "2024-05-10T12:01:23.751334Z",
     "shell.execute_reply": "2024-05-10T12:01:23.751138Z"
    },
    "papermill": {
     "duration": 0.006764,
     "end_time": "2024-05-10T12:01:23.752021",
     "exception": false,
     "start_time": "2024-05-10T12:01:23.745257",
     "status": "completed"
    },
    "tags": []
   },
   "outputs": [
    {
     "data": {
      "text/plain": [
       "0.38231815577066947"
      ]
     },
     "execution_count": 32,
     "metadata": {},
     "output_type": "execute_result"
    }
   ],
   "source": [
    "FAIL = MSE / MSE_Y\n",
    "FAIL"
   ]
  },
  {
   "cell_type": "code",
   "execution_count": 33,
   "id": "00dedac8-23e3-49a0-bbbf-a28e71051a8a",
   "metadata": {
    "execution": {
     "iopub.execute_input": "2024-05-10T12:01:23.760112Z",
     "iopub.status.busy": "2024-05-10T12:01:23.759995Z",
     "iopub.status.idle": "2024-05-10T12:01:23.761941Z",
     "shell.execute_reply": "2024-05-10T12:01:23.761731Z"
    },
    "papermill": {
     "duration": 0.006715,
     "end_time": "2024-05-10T12:01:23.762602",
     "exception": false,
     "start_time": "2024-05-10T12:01:23.755887",
     "status": "completed"
    },
    "tags": []
   },
   "outputs": [
    {
     "data": {
      "text/plain": [
       "0.6176818442293306"
      ]
     },
     "execution_count": 33,
     "metadata": {},
     "output_type": "execute_result"
    }
   ],
   "source": [
    "1 - FAIL"
   ]
  },
  {
   "cell_type": "code",
   "execution_count": 34,
   "id": "c94ece4b-c348-4bbd-aecb-cbfdb383ee34",
   "metadata": {
    "execution": {
     "iopub.execute_input": "2024-05-10T12:01:23.770916Z",
     "iopub.status.busy": "2024-05-10T12:01:23.770817Z",
     "iopub.status.idle": "2024-05-10T12:01:23.773751Z",
     "shell.execute_reply": "2024-05-10T12:01:23.773544Z"
    },
    "papermill": {
     "duration": 0.008034,
     "end_time": "2024-05-10T12:01:23.774418",
     "exception": false,
     "start_time": "2024-05-10T12:01:23.766384",
     "status": "completed"
    },
    "tags": []
   },
   "outputs": [
    {
     "data": {
      "text/plain": [
       "0.6176818442293306"
      ]
     },
     "execution_count": 34,
     "metadata": {},
     "output_type": "execute_result"
    }
   ],
   "source": [
    "model.score(X_test, y_test)"
   ]
  },
  {
   "cell_type": "markdown",
   "id": "3df4923c-0524-481b-b15c-85e4c69e6335",
   "metadata": {
    "papermill": {
     "duration": 0.00373,
     "end_time": "2024-05-10T12:01:23.782014",
     "exception": false,
     "start_time": "2024-05-10T12:01:23.778284",
     "status": "completed"
    },
    "tags": []
   },
   "source": [
    "#### MAE: Mean Absolute Error"
   ]
  },
  {
   "cell_type": "code",
   "execution_count": 35,
   "id": "4d40c0e7-4b9d-47d2-942a-0da5b137e1fb",
   "metadata": {
    "execution": {
     "iopub.execute_input": "2024-05-10T12:01:23.790302Z",
     "iopub.status.busy": "2024-05-10T12:01:23.790191Z",
     "iopub.status.idle": "2024-05-10T12:01:23.792360Z",
     "shell.execute_reply": "2024-05-10T12:01:23.792163Z"
    },
    "papermill": {
     "duration": 0.006963,
     "end_time": "2024-05-10T12:01:23.792991",
     "exception": false,
     "start_time": "2024-05-10T12:01:23.786028",
     "status": "completed"
    },
    "tags": []
   },
   "outputs": [
    {
     "data": {
      "text/plain": [
       "25889.86600654045"
      ]
     },
     "execution_count": 35,
     "metadata": {},
     "output_type": "execute_result"
    }
   ],
   "source": [
    "df_pred['error'].abs().mean()"
   ]
  },
  {
   "cell_type": "code",
   "execution_count": 36,
   "id": "b3093bcf-e0c6-4be4-bf3c-513742166a6f",
   "metadata": {
    "execution": {
     "iopub.execute_input": "2024-05-10T12:01:23.801145Z",
     "iopub.status.busy": "2024-05-10T12:01:23.801062Z",
     "iopub.status.idle": "2024-05-10T12:01:23.803289Z",
     "shell.execute_reply": "2024-05-10T12:01:23.803064Z"
    },
    "papermill": {
     "duration": 0.006968,
     "end_time": "2024-05-10T12:01:23.803929",
     "exception": false,
     "start_time": "2024-05-10T12:01:23.796961",
     "status": "completed"
    },
    "tags": []
   },
   "outputs": [
    {
     "data": {
      "text/plain": [
       "25889.86600654045"
      ]
     },
     "execution_count": 36,
     "metadata": {},
     "output_type": "execute_result"
    }
   ],
   "source": [
    "metrics.mean_absolute_error(y_test, y_pred)"
   ]
  }
 ],
 "metadata": {
  "kernelspec": {
   "display_name": "Python (work)",
   "language": "python",
   "name": "work"
  },
  "language_info": {
   "codemirror_mode": {
    "name": "ipython",
    "version": 3
   },
   "file_extension": ".py",
   "mimetype": "text/x-python",
   "name": "python",
   "nbconvert_exporter": "python",
   "pygments_lexer": "ipython3",
   "version": "3.12.2"
  },
  "papermill": {
   "default_parameters": {},
   "duration": 2.518909,
   "end_time": "2024-05-10T12:01:24.124771",
   "environment_variables": {},
   "exception": null,
   "input_path": "/Users/sota/Dropbox/2 Business/1 Datons/2 Areas/Courses/03 ML/materials/notebooks/30_ML Details/02_Evaluation/B.ipynb",
   "output_path": "/Users/sota/Dropbox/2 Business/1 Datons/2 Areas/Courses/03 ML/materials/notebooks/30_ML Details/02_Evaluation/B.ipynb",
   "parameters": {},
   "start_time": "2024-05-10T12:01:21.605862",
   "version": "2.5.0"
  }
 },
 "nbformat": 4,
 "nbformat_minor": 5
}